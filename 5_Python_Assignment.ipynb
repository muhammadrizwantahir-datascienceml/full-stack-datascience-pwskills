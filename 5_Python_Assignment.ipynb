{
  "cells": [
    {
      "cell_type": "markdown",
      "metadata": {
        "id": "qGZU5HmTj0wt"
      },
      "source": [
        "## **For Loop:**"
      ]
    },
    {
      "cell_type": "markdown",
      "metadata": {
        "id": "qJrBtsXgj0wz"
      },
      "source": [
        "### 1. Write a Python program to print numbers from 1 to 10 using a for loop.\n"
      ]
    },
    {
      "cell_type": "code",
      "execution_count": null,
      "metadata": {
        "id": "NDRtCk4mj0w1",
        "outputId": "d5d8d70e-ee97-4e2a-fd76-7e5b07dec0f4"
      },
      "outputs": [
        {
          "name": "stdout",
          "output_type": "stream",
          "text": [
            "1\n",
            "2\n",
            "3\n",
            "4\n",
            "5\n",
            "6\n",
            "7\n",
            "8\n",
            "9\n",
            "10\n"
          ]
        }
      ],
      "source": [
        "# range function takes start index as first argument and second as end exclusive last value\n",
        "for number in range(1, 11):\n",
        "    print(number)\n"
      ]
    },
    {
      "cell_type": "markdown",
      "metadata": {
        "id": "L7J5wqAnj0w5"
      },
      "source": [
        "### 2. Explain the difference between a for loop and a while loop in Python.\n"
      ]
    },
    {
      "cell_type": "markdown",
      "metadata": {
        "id": "nNffY-KNj0w6"
      },
      "source": [
        "- A `for` loop is used for iterating over a sequence (such as a list, tuple, or string) or other iterable objects. It executes a block of code a predefined number of times based on the length of the iterable.\n",
        "\n",
        "- A `while` loop, on the other hand, is used to repeatedly execute a block of code as long as a specified condition is True. It doesn't require an iterable and can run indefinitely if the condition never becomes False."
      ]
    },
    {
      "cell_type": "markdown",
      "metadata": {
        "id": "rnoSd5yij0w7"
      },
      "source": [
        "### 3. Write a Python program to calculate the sum of all numbers from 1 to 100 using a for loop.\n"
      ]
    },
    {
      "cell_type": "code",
      "execution_count": null,
      "metadata": {
        "id": "79LlXJqSj0w8",
        "outputId": "e0f85849-60cc-4a28-9b0e-2764cf5b68f7"
      },
      "outputs": [
        {
          "name": "stdout",
          "output_type": "stream",
          "text": [
            "Sum of numbers from 1 to 100: 5050\n"
          ]
        }
      ],
      "source": [
        "total_sum = 0\n",
        "\n",
        "for number in range(1, 101):\n",
        "    total_sum += number\n",
        "\n",
        "print(\"Sum of numbers from 1 to 100:\", total_sum)\n"
      ]
    },
    {
      "cell_type": "markdown",
      "metadata": {
        "id": "jt7OkDbUj0w9"
      },
      "source": [
        "### 4. How do you iterate through a list using a for loop in Python?\n"
      ]
    },
    {
      "cell_type": "code",
      "execution_count": null,
      "metadata": {
        "id": "KVW5LpNjj0w_",
        "outputId": "2ad13123-e40f-4c57-96c9-9de30a854524"
      },
      "outputs": [
        {
          "name": "stdout",
          "output_type": "stream",
          "text": [
            "1\n",
            "2\n",
            "3\n",
            "4\n",
            "5\n"
          ]
        }
      ],
      "source": [
        "my_list = [1, 2, 3, 4, 5]\n",
        "\n",
        "for item in my_list:\n",
        "    print(item)\n"
      ]
    },
    {
      "cell_type": "markdown",
      "metadata": {
        "id": "M1CEc7oJj0xA"
      },
      "source": [
        "### 5. Write a Python program to find the product of all elements in a list using a for loop.\n"
      ]
    },
    {
      "cell_type": "code",
      "execution_count": null,
      "metadata": {
        "id": "Hnhp-aXSj0xB",
        "outputId": "70f8c60d-1088-4be6-f152-37977f778246"
      },
      "outputs": [
        {
          "name": "stdout",
          "output_type": "stream",
          "text": [
            "Product of elements: 120\n"
          ]
        }
      ],
      "source": [
        "my_list = [1, 2, 3, 4, 5]\n",
        "product = 1\n",
        "\n",
        "for num in my_list:\n",
        "    product *= num\n",
        "\n",
        "print(\"Product of elements:\", product)\n"
      ]
    },
    {
      "cell_type": "markdown",
      "metadata": {
        "id": "e81qcdyJj0xD"
      },
      "source": [
        "### 6. Create a Python program that prints all even numbers from 1 to 20 using a for loop.\n"
      ]
    },
    {
      "cell_type": "code",
      "execution_count": null,
      "metadata": {
        "id": "8OtL3qvSj0xE",
        "outputId": "22470f85-0ec8-4df4-b683-db5c8c88e4a9"
      },
      "outputs": [
        {
          "name": "stdout",
          "output_type": "stream",
          "text": [
            "2\n",
            "4\n",
            "6\n",
            "8\n",
            "10\n",
            "12\n",
            "14\n",
            "16\n",
            "18\n",
            "20\n"
          ]
        }
      ],
      "source": [
        "for number in range(2, 21, 2):\n",
        "    print(number)\n"
      ]
    },
    {
      "cell_type": "markdown",
      "metadata": {
        "id": "Q349XW4pj0xF"
      },
      "source": [
        "### 7. Write a Python program that calculates the factorial of a number using a for loop.\n"
      ]
    },
    {
      "cell_type": "code",
      "execution_count": null,
      "metadata": {
        "id": "XNnOvTKEj0xF",
        "outputId": "f5a811c1-a2fe-4dd2-b346-8db9fdf39276"
      },
      "outputs": [
        {
          "name": "stdout",
          "output_type": "stream",
          "text": [
            "Factorial of 5 is 120\n"
          ]
        }
      ],
      "source": [
        "n = 5\n",
        "factorial = 1\n",
        "\n",
        "for i in range(1, n + 1):\n",
        "    factorial *= i\n",
        "\n",
        "print(\"Factorial of\", n, \"is\", factorial)\n"
      ]
    },
    {
      "cell_type": "markdown",
      "metadata": {
        "id": "9fGcytr6j0xG"
      },
      "source": [
        "### 8. How can you iterate through the characters of a string using a for loop in Python?\n"
      ]
    },
    {
      "cell_type": "code",
      "execution_count": null,
      "metadata": {
        "id": "_ZXZb4GJj0xH",
        "outputId": "527ddb16-ed81-42f0-9e46-7abe21692063"
      },
      "outputs": [
        {
          "name": "stdout",
          "output_type": "stream",
          "text": [
            "H\n",
            "e\n",
            "l\n",
            "l\n",
            "o\n"
          ]
        }
      ],
      "source": [
        "my_string = \"Hello\"\n",
        "\n",
        "for char in my_string:\n",
        "    print(char)\n"
      ]
    },
    {
      "cell_type": "markdown",
      "metadata": {
        "id": "53vL3SG6j0xI"
      },
      "source": [
        "### 9. Write a Python program to find the largest number in a list using a for loop.\n"
      ]
    },
    {
      "cell_type": "code",
      "execution_count": null,
      "metadata": {
        "id": "kise1F5Gj0xI",
        "outputId": "fc227785-7162-4123-fd58-4f49295245da"
      },
      "outputs": [
        {
          "name": "stdout",
          "output_type": "stream",
          "text": [
            "Largest number: 17\n"
          ]
        }
      ],
      "source": [
        "my_list = [10, 5, 17, 3, 8]\n",
        "largest = my_list[0]  # Assume the first element is the largest\n",
        "\n",
        "for num in my_list:\n",
        "    if num > largest:\n",
        "        largest = num\n",
        "\n",
        "print(\"Largest number:\", largest)\n"
      ]
    },
    {
      "cell_type": "markdown",
      "metadata": {
        "id": "NZeoxkrYj0xJ"
      },
      "source": [
        "### 10. Create a Python program that prints the Fibonacci sequence up to a specified limit using a for loop.\n"
      ]
    },
    {
      "cell_type": "code",
      "execution_count": null,
      "metadata": {
        "id": "4tO3ElxYj0xK",
        "outputId": "d6cb49a4-4bb0-4f45-998d-4d1164ecada3"
      },
      "outputs": [
        {
          "name": "stdout",
          "output_type": "stream",
          "text": [
            "0\n",
            "1\n",
            "1\n",
            "2\n",
            "3\n",
            "5\n",
            "8\n",
            "13\n",
            "21\n",
            "34\n"
          ]
        }
      ],
      "source": [
        "# Max limit for term\n",
        "\n",
        "limit = 50\n",
        "\n",
        "# first and second value of fibonacci sequence\n",
        "fibonacci_sequence = [0, 1]\n",
        "\n",
        "while True:\n",
        "    next_fib = fibonacci_sequence[-1] + fibonacci_sequence[-2]\n",
        "    if next_fib > limit:\n",
        "        break\n",
        "    fibonacci_sequence.append(next_fib)\n",
        "\n",
        "for num in fibonacci_sequence:\n",
        "    print(num)\n"
      ]
    },
    {
      "cell_type": "markdown",
      "metadata": {
        "id": "p5X9Kq9jj0xL"
      },
      "source": [
        "### 11. Write a Python program to count the number of vowels in a given string using a for loop.\n"
      ]
    },
    {
      "cell_type": "code",
      "execution_count": null,
      "metadata": {
        "id": "urMuc1pEj0xM",
        "outputId": "47676008-17d0-46cb-e9f2-6cb08a712140"
      },
      "outputs": [
        {
          "name": "stdout",
          "output_type": "stream",
          "text": [
            "Number of vowels: 3\n"
          ]
        }
      ],
      "source": [
        "# Input string\n",
        "input_string = \"Hello, World!\"\n",
        "vowels = \"AEIOUaeiou\"  # Define a string containing all vowels\n",
        "count = 0  # Initialize a counter for vowels\n",
        "\n",
        "# Iterate through each character in the input string\n",
        "for char in input_string:\n",
        "    if char in vowels:\n",
        "        count += 1\n",
        "\n",
        "print(\"Number of vowels:\", count)\n"
      ]
    },
    {
      "cell_type": "markdown",
      "metadata": {
        "id": "NP_kdJibj0xN"
      },
      "source": [
        "### 12. Create a Python program that generates a multiplication table for a given number using a for loop.\n"
      ]
    },
    {
      "cell_type": "code",
      "execution_count": null,
      "metadata": {
        "id": "9Q8lxb18j0xN",
        "outputId": "3cf9f2cd-eb90-42af-e1be-95f0cd0d2004"
      },
      "outputs": [
        {
          "name": "stdout",
          "output_type": "stream",
          "text": [
            "Multiplication table for 7\n",
            "7 x 1 = 7\n",
            "7 x 2 = 14\n",
            "7 x 3 = 21\n",
            "7 x 4 = 28\n",
            "7 x 5 = 35\n",
            "7 x 6 = 42\n",
            "7 x 7 = 49\n",
            "7 x 8 = 56\n",
            "7 x 9 = 63\n",
            "7 x 10 = 70\n"
          ]
        }
      ],
      "source": [
        "# Input number for the multiplication table\n",
        "number = 7\n",
        "\n",
        "print(\"Multiplication table for\", number)\n",
        "for i in range(1, 11):\n",
        "    product = number * i\n",
        "    print(f\"{number} x {i} = {product}\")\n"
      ]
    },
    {
      "cell_type": "markdown",
      "metadata": {
        "id": "OUgDOAX3j0xP"
      },
      "source": [
        "### 13. Write a Python program to reverse a list using a for loop.\n"
      ]
    },
    {
      "cell_type": "code",
      "execution_count": null,
      "metadata": {
        "id": "JJZwIAEEj0xP",
        "outputId": "99104b85-f9d2-4673-8239-373ad6a4f903"
      },
      "outputs": [
        {
          "name": "stdout",
          "output_type": "stream",
          "text": [
            "Reversed list: [5, 4, 3, 2, 1]\n"
          ]
        }
      ],
      "source": [
        "# Input list\n",
        "my_list = [1, 2, 3, 4, 5]\n",
        "reversed_list = []\n",
        "\n",
        "# Iterate through the original list in reverse order\n",
        "for i in range(len(my_list) - 1, -1, -1):\n",
        "    reversed_list.append(my_list[i])\n",
        "\n",
        "print(\"Reversed list:\", reversed_list)\n"
      ]
    },
    {
      "cell_type": "markdown",
      "metadata": {
        "id": "7VmdVlnmj0xQ"
      },
      "source": [
        "### 14. Write a Python program to find the common elements between two lists using a for loop.\n"
      ]
    },
    {
      "cell_type": "code",
      "execution_count": null,
      "metadata": {
        "id": "oGdumBzSj0xR",
        "outputId": "1233e5dc-b2ab-42ff-e2a3-278b5f4a969c"
      },
      "outputs": [
        {
          "name": "stdout",
          "output_type": "stream",
          "text": [
            "Common elements: [3, 4, 5]\n"
          ]
        }
      ],
      "source": [
        "# Input lists\n",
        "list1 = [1, 2, 3, 4, 5]\n",
        "list2 = [3, 4, 5, 6, 7]\n",
        "\n",
        "common_elements = []\n",
        "\n",
        "# Iterate through elements in list1 and check if they are in list2\n",
        "for item in list1:\n",
        "    if item in list2:\n",
        "        common_elements.append(item)\n",
        "\n",
        "print(\"Common elements:\", common_elements)\n"
      ]
    },
    {
      "cell_type": "markdown",
      "metadata": {
        "id": "mPAObs4Ej0xS"
      },
      "source": [
        "### 15. Explain how to use a for loop to iterate through the keys and values of a dictionary in Python.\n"
      ]
    },
    {
      "cell_type": "code",
      "execution_count": null,
      "metadata": {
        "id": "NUZmb12Nj0xT",
        "outputId": "fc2cc607-71da-4227-af68-a8e5cd33e863"
      },
      "outputs": [
        {
          "name": "stdout",
          "output_type": "stream",
          "text": [
            "Key: Name, Value: Alice\n",
            "Key: Age, Value: 30\n",
            "Key: City, Value: New York\n"
          ]
        }
      ],
      "source": [
        "# Input dictionary\n",
        "my_dict = {\"Name\": \"Alice\", \"Age\": 30, \"City\": \"New York\"}\n",
        "\n",
        "# Iterate through keys and values using a for loop\n",
        "for key, value in my_dict.items():\n",
        "    print(f\"Key: {key}, Value: {value}\")\n"
      ]
    },
    {
      "cell_type": "markdown",
      "metadata": {
        "id": "8b8wygZVj0xW"
      },
      "source": [
        "### 16. Write a Python program to find the GCD (Greatest Common Divisor) of two numbers using a for loop.\n"
      ]
    },
    {
      "cell_type": "code",
      "execution_count": null,
      "metadata": {
        "id": "bGxRltQlj0xY",
        "outputId": "31c4734f-15f6-4cc5-a759-7be6193896a2"
      },
      "outputs": [
        {
          "name": "stdout",
          "output_type": "stream",
          "text": [
            "GCD of 48 and 36 is 12\n"
          ]
        }
      ],
      "source": [
        "# Input numbers\n",
        "num1 = 48\n",
        "num2 = 36\n",
        "\n",
        "# Find the smaller number to limit the range of the loop\n",
        "if num1 < num2:\n",
        "    smaller = num1\n",
        "else:\n",
        "    smaller = num2\n",
        "\n",
        "gcd = 1\n",
        "\n",
        "# Iterate through numbers from 1 to the smaller number\n",
        "for i in range(1, smaller + 1):\n",
        "    if num1 % i == 0 and num2 % i == 0:\n",
        "        gcd = i\n",
        "\n",
        "print(\"GCD of\", num1, \"and\", num2, \"is\", gcd)\n"
      ]
    },
    {
      "cell_type": "markdown",
      "metadata": {
        "id": "Rvtj9xa5j0xZ"
      },
      "source": [
        "### 17. Create a Python program that checks if a string is a palindrome using a for loop.\n"
      ]
    },
    {
      "cell_type": "code",
      "execution_count": null,
      "metadata": {
        "id": "FQVNl0V5j0xa",
        "outputId": "27d3b907-8965-4201-e59c-6a73d6ae6a79"
      },
      "outputs": [
        {
          "name": "stdout",
          "output_type": "stream",
          "text": [
            "The string is a palindrome.\n"
          ]
        }
      ],
      "source": [
        "# Input string\n",
        "input_string = \"racecar\"\n",
        "\n",
        "is_palindrome = True\n",
        "\n",
        "# Iterate through the string in forward and backward directions\n",
        "for i in range(len(input_string) // 2):\n",
        "    if input_string[i] != input_string[-(i + 1)]:\n",
        "        is_palindrome = False\n",
        "        break\n",
        "\n",
        "if is_palindrome:\n",
        "    print(\"The string is a palindrome.\")\n",
        "else:\n",
        "    print(\"The string is not a palindrome.\")\n"
      ]
    },
    {
      "cell_type": "markdown",
      "metadata": {
        "id": "aWVXJILqj0xb"
      },
      "source": [
        "### 18. Write a Python program to remove duplicates from a list using a for loop.\n"
      ]
    },
    {
      "cell_type": "code",
      "execution_count": null,
      "metadata": {
        "id": "bOeNxMjtj0xb",
        "outputId": "218a8039-aab2-486c-b40d-0acb79a75c26"
      },
      "outputs": [
        {
          "name": "stdout",
          "output_type": "stream",
          "text": [
            "List with duplicates removed: [1, 2, 3, 4, 5]\n"
          ]
        }
      ],
      "source": [
        "# Input list with duplicates\n",
        "my_list = [1, 2, 2, 3, 4, 4, 5, 5]\n",
        "\n",
        "# Create an empty list to store unique elements\n",
        "unique_list = []\n",
        "\n",
        "# Iterate through the original list and add elements to unique_list if not already present\n",
        "for item in my_list:\n",
        "    if item not in unique_list:\n",
        "        unique_list.append(item)\n",
        "\n",
        "print(\"List with duplicates removed:\", unique_list)\n"
      ]
    },
    {
      "cell_type": "markdown",
      "metadata": {
        "id": "11nOcvsdj0xc"
      },
      "source": [
        "### 19. Create a Python program that counts the number of words in a sentence using a for loop.\n"
      ]
    },
    {
      "cell_type": "code",
      "execution_count": null,
      "metadata": {
        "id": "F6vuOlnsj0xc",
        "outputId": "a052c824-88f1-475f-acbb-eedcbad01304"
      },
      "outputs": [
        {
          "name": "stdout",
          "output_type": "stream",
          "text": [
            "Number of words: 8\n"
          ]
        }
      ],
      "source": [
        "# Input sentence\n",
        "sentence = \"This is a sample sentence with several words.\"\n",
        "\n",
        "# Split the sentence into words using space as a delimiter\n",
        "words = sentence.split()\n",
        "\n",
        "word_count = 0\n",
        "\n",
        "# Iterate through the list of words and count them\n",
        "for word in words:\n",
        "    word_count += 1\n",
        "\n",
        "print(\"Number of words:\", word_count)\n"
      ]
    },
    {
      "cell_type": "markdown",
      "metadata": {
        "id": "OApu7JwQj0x-"
      },
      "source": [
        "### 20. Write a Python program to find the sum of all odd numbers from 1 to 50 using a for loop.\n"
      ]
    },
    {
      "cell_type": "code",
      "execution_count": null,
      "metadata": {
        "id": "3EFmA-sLj0x_",
        "outputId": "281c41cb-799c-4b43-9ae9-49c756d03a0b"
      },
      "outputs": [
        {
          "name": "stdout",
          "output_type": "stream",
          "text": [
            "Sum of odd numbers from 1 to 50: 625\n"
          ]
        }
      ],
      "source": [
        "total_sum = 0\n",
        "\n",
        "# Iterate through numbers from 1 to 50\n",
        "for number in range(1, 51):\n",
        "    if number % 2 != 0:  # Check if the number is odd\n",
        "        total_sum += number\n",
        "\n",
        "print(\"Sum of odd numbers from 1 to 50:\", total_sum)\n"
      ]
    },
    {
      "cell_type": "markdown",
      "metadata": {
        "id": "PK2iaYcDj0yA"
      },
      "source": [
        "### 21. Write a Python program that checks if a given year is a leap year using a for loop.\n"
      ]
    },
    {
      "cell_type": "code",
      "execution_count": null,
      "metadata": {
        "id": "O1H2XCw5j0yA",
        "outputId": "559cbb4f-c8f0-4bd6-eaf5-cd88e9632710"
      },
      "outputs": [
        {
          "name": "stdout",
          "output_type": "stream",
          "text": [
            "2024 is a leap year.\n"
          ]
        }
      ],
      "source": [
        "def is_leap_year(year):\n",
        "    if (year % 4 == 0 and year % 100 != 0) or (year % 400 == 0):\n",
        "        return True\n",
        "    else:\n",
        "        return False\n",
        "\n",
        "# Input year from the user\n",
        "year = int(input(\"Enter a year: \"))\n",
        "\n",
        "# Check if it's a leap year using a for loop\n",
        "if is_leap_year(year):\n",
        "    print(f\"{year} is a leap year.\")\n",
        "else:\n",
        "    print(f\"{year} is not a leap year.\")\n"
      ]
    },
    {
      "cell_type": "markdown",
      "metadata": {
        "id": "1DX4avMhj0yB"
      },
      "source": [
        "### 22. Create a Python program that calculates the square root of a number using a for loop.\n"
      ]
    },
    {
      "cell_type": "code",
      "execution_count": null,
      "metadata": {
        "id": "02QOBB1oj0yC",
        "outputId": "356b9467-6d67-4e8b-b4e6-919bf1e00710"
      },
      "outputs": [
        {
          "name": "stdout",
          "output_type": "stream",
          "text": [
            "Square root of 25 is approximately 5.0\n"
          ]
        }
      ],
      "source": [
        "# Input number for which to calculate the square root\n",
        "number = 25\n",
        "\n",
        "# Initialize an approximation for the square root\n",
        "sqrt_approximation = number / 2.0\n",
        "\n",
        "# Specify the number of iterations for refining the approximation\n",
        "iterations = 10\n",
        "\n",
        "# Use a for loop to refine the square root approximation\n",
        "for _ in range(iterations):\n",
        "    sqrt_approximation = 0.5 * (sqrt_approximation + (number / sqrt_approximation))\n",
        "\n",
        "print(\"Square root of\", number, \"is approximately\", sqrt_approximation)\n"
      ]
    },
    {
      "cell_type": "markdown",
      "metadata": {
        "id": "ASp5PVOhj0yC"
      },
      "source": [
        "### 23. Write a Python program to find the LCM (Least Common Multiple) of two numbers using a for loop.\n"
      ]
    },
    {
      "cell_type": "code",
      "execution_count": null,
      "metadata": {
        "id": "eqp9Ur3jj0yD",
        "outputId": "7e6e1e39-4c4c-4941-f4cd-6545f720819b"
      },
      "outputs": [
        {
          "name": "stdout",
          "output_type": "stream",
          "text": [
            "LCM of 12 and 18 is 36\n"
          ]
        }
      ],
      "source": [
        "# Input two numbers\n",
        "num1 = 12\n",
        "num2 = 18\n",
        "\n",
        "# Find the larger number to limit the range of the loop\n",
        "if num1 > num2:\n",
        "    larger = num1\n",
        "else:\n",
        "    larger = num2\n",
        "\n",
        "lcm = 0\n",
        "\n",
        "# Iterate through numbers from the larger number and beyond\n",
        "for i in range(larger, num1 * num2 + 1, larger):\n",
        "    if i % num1 == 0 and i % num2 == 0:\n",
        "        lcm = i\n",
        "        break\n",
        "\n",
        "print(\"LCM of\", num1, \"and\", num2, \"is\", lcm)\n"
      ]
    },
    {
      "cell_type": "markdown",
      "metadata": {
        "id": "jE6wkdxzj0yE"
      },
      "source": [
        "\n",
        "## **If-Else Statements :**"
      ]
    },
    {
      "cell_type": "markdown",
      "metadata": {
        "id": "LvsJ5I9Cj0yE"
      },
      "source": [
        "### 1. Write a Python program to check if a number is positive, negative, or zero using an if-else statement.\n"
      ]
    },
    {
      "cell_type": "code",
      "execution_count": null,
      "metadata": {
        "id": "iTjqAn4-j0yF",
        "outputId": "53e7b7ba-55b4-480f-acb0-de7fef20fba2"
      },
      "outputs": [
        {
          "name": "stdout",
          "output_type": "stream",
          "text": [
            "The number is positive.\n"
          ]
        }
      ],
      "source": [
        "# Input a number\n",
        "number = float(input(\"Enter a number: \"))\n",
        "\n",
        "# Check if the number is positive, negative, or zero\n",
        "if number > 0:\n",
        "    print(\"The number is positive.\")\n",
        "elif number < 0:\n",
        "    print(\"The number is negative.\")\n",
        "else:\n",
        "    print(\"The number is zero.\")\n"
      ]
    },
    {
      "cell_type": "markdown",
      "metadata": {
        "id": "hyJeZadXj0yG"
      },
      "source": [
        "### 2. Create a Python program that checks if a given number is even or odd using an if-else statement.\n"
      ]
    },
    {
      "cell_type": "code",
      "execution_count": null,
      "metadata": {
        "id": "P6KZ863mj0yG",
        "outputId": "43cb61fe-1e8e-446e-febf-20366e113cc1"
      },
      "outputs": [
        {
          "name": "stdout",
          "output_type": "stream",
          "text": [
            "The number is odd.\n"
          ]
        }
      ],
      "source": [
        "# Input a number\n",
        "number = int(input(\"Enter a number: \"))\n",
        "\n",
        "# Check if the number is even or odd\n",
        "if number % 2 == 0:\n",
        "    print(\"The number is even.\")\n",
        "else:\n",
        "    print(\"The number is odd.\")\n"
      ]
    },
    {
      "cell_type": "markdown",
      "metadata": {
        "id": "zcEAgdfDj0yH"
      },
      "source": [
        "### 3. How can you use nested if-else statements in Python, and provide an example?\n"
      ]
    },
    {
      "cell_type": "markdown",
      "metadata": {
        "id": "mJ24DFDij0yH"
      },
      "source": [
        "Nested `if-else` statements are used to have one `if-else` statement inside another. They are useful for handling complex conditional logic. Here's an example:"
      ]
    },
    {
      "cell_type": "code",
      "execution_count": null,
      "metadata": {
        "id": "WiKXEJuzj0yI",
        "outputId": "a76eb11b-2311-48c5-d8c8-19a6b023918d"
      },
      "outputs": [
        {
          "name": "stdout",
          "output_type": "stream",
          "text": [
            "The number is positive.\n"
          ]
        }
      ],
      "source": [
        "# Input a number\n",
        "number = int(input(\"Enter a number: \"))\n",
        "\n",
        "# Check if the number is positive, negative, or zero\n",
        "if number >= 0:\n",
        "    if number == 0:\n",
        "        print(\"The number is zero.\")\n",
        "    else:\n",
        "        print(\"The number is positive.\")\n",
        "else:\n",
        "    print(\"The number is negative.\")\n"
      ]
    },
    {
      "cell_type": "markdown",
      "metadata": {
        "id": "9UBNDdSdj0yJ"
      },
      "source": [
        "### 4. Write a Python program to determine the largest of three numbers using if-else.\n"
      ]
    },
    {
      "cell_type": "code",
      "execution_count": null,
      "metadata": {
        "id": "5WfjSjXbj0yJ",
        "outputId": "f23771ef-d543-46db-ae9f-23f45848da12"
      },
      "outputs": [
        {
          "name": "stdout",
          "output_type": "stream",
          "text": [
            "The largest number is: 6.7\n"
          ]
        }
      ],
      "source": [
        "# Input three numbers\n",
        "num1 = float(input(\"Enter the first number: \"))\n",
        "num2 = float(input(\"Enter the second number: \"))\n",
        "num3 = float(input(\"Enter the third number: \"))\n",
        "\n",
        "# Determine the largest number\n",
        "if num1 >= num2 and num1 >= num3:\n",
        "    largest = num1\n",
        "elif num2 >= num1 and num2 >= num3:\n",
        "    largest = num2\n",
        "else:\n",
        "    largest = num3\n",
        "\n",
        "print(\"The largest number is:\", largest)\n"
      ]
    },
    {
      "cell_type": "markdown",
      "metadata": {
        "id": "grU9-9FBj0yK"
      },
      "source": [
        "### 5. Write a Python program that calculates the absolute value of a number using if-else.\n"
      ]
    },
    {
      "cell_type": "code",
      "execution_count": null,
      "metadata": {
        "id": "ZdK3UO_zj0yL",
        "outputId": "f4461895-7857-477a-e2ed-c579f5202227"
      },
      "outputs": [
        {
          "name": "stdout",
          "output_type": "stream",
          "text": [
            "The absolute value of the number is: 45.0\n"
          ]
        }
      ],
      "source": [
        "# Input a number\n",
        "number = float(input(\"Enter a number: \"))\n",
        "\n",
        "# Calculate the absolute value\n",
        "if number >= 0:\n",
        "    absolute_value = number\n",
        "else:\n",
        "    absolute_value = -number\n",
        "\n",
        "print(\"The absolute value of the number is:\", absolute_value)\n"
      ]
    },
    {
      "cell_type": "markdown",
      "metadata": {
        "id": "6G9ATse6j0yM"
      },
      "source": [
        "### 6. Create a Python program that checks if a given character is a vowel or consonant using if-else.\n"
      ]
    },
    {
      "cell_type": "code",
      "execution_count": null,
      "metadata": {
        "id": "6FiJOC9gj0yN",
        "outputId": "8ee53ef8-acf8-4e15-81bb-9c38dde062fc"
      },
      "outputs": [
        {
          "name": "stdout",
          "output_type": "stream",
          "text": [
            "The character is a consonant.\n"
          ]
        }
      ],
      "source": [
        "# Input a character\n",
        "char = input(\"Enter a character: \")\n",
        "\n",
        "# Check if the character is a vowel or consonant\n",
        "if char in \"AEIOUaeiou\":\n",
        "    print(\"The character is a vowel.\")\n",
        "else:\n",
        "    print(\"The character is a consonant.\")\n"
      ]
    },
    {
      "cell_type": "markdown",
      "metadata": {
        "id": "zfpqwnBFj0yO"
      },
      "source": [
        "### 7. Write a Python program to determine if a user is eligible to vote based on their age using if-else.\n"
      ]
    },
    {
      "cell_type": "code",
      "execution_count": null,
      "metadata": {
        "id": "MHZyU7GFj0yO",
        "outputId": "0937d57a-8897-47e9-e0a2-13fbdf13233e"
      },
      "outputs": [
        {
          "name": "stdout",
          "output_type": "stream",
          "text": [
            "You are eligible to vote.\n"
          ]
        }
      ],
      "source": [
        "# Input age\n",
        "age = int(input(\"Enter your age: \"))\n",
        "\n",
        "# Check eligibility to vote\n",
        "if age >= 18:\n",
        "    print(\"You are eligible to vote.\")\n",
        "else:\n",
        "    print(\"You are not eligible to vote.\")\n"
      ]
    },
    {
      "cell_type": "markdown",
      "metadata": {
        "id": "UemNgxqbj0yP"
      },
      "source": [
        "### 8. Create a Python program that calculates the discount amount based on the purchase amount using if-else.\n"
      ]
    },
    {
      "cell_type": "code",
      "execution_count": null,
      "metadata": {
        "id": "CaDXt3Etj0yQ",
        "outputId": "267682f6-3e76-43a9-a866-c21d991e1b95"
      },
      "outputs": [
        {
          "name": "stdout",
          "output_type": "stream",
          "text": [
            "Discount amount: 2003.3000000000002\n"
          ]
        }
      ],
      "source": [
        "# Input purchase amount\n",
        "purchase_amount = float(input(\"Enter the purchase amount: \"))\n",
        "\n",
        "# Calculate discount based on purchase amount\n",
        "if purchase_amount >= 1000:\n",
        "    discount = 0.1 * purchase_amount  # 10% discount\n",
        "else:\n",
        "    discount = 0\n",
        "\n",
        "print(\"Discount amount:\", discount)\n"
      ]
    },
    {
      "cell_type": "markdown",
      "metadata": {
        "id": "RicS_IYQj0yQ"
      },
      "source": [
        "### 9. Write a Python program to check if a number is within a specified range using if-else.\n"
      ]
    },
    {
      "cell_type": "code",
      "execution_count": null,
      "metadata": {
        "id": "xTDPJiMTj0yR",
        "outputId": "a06df025-ef61-4903-c453-816f2e9dc4bc"
      },
      "outputs": [
        {
          "name": "stdout",
          "output_type": "stream",
          "text": [
            "The number is within the specified range.\n"
          ]
        }
      ],
      "source": [
        "# Input a number\n",
        "number = float(input(\"Enter a number: \"))\n",
        "\n",
        "# Check if the number is within the range [10, 50]\n",
        "if 10 <= number <= 50:\n",
        "    print(\"The number is within the specified range.\")\n",
        "else:\n",
        "    print(\"The number is not within the specified range.\")\n"
      ]
    },
    {
      "cell_type": "markdown",
      "metadata": {
        "id": "0axIVaacj0yR"
      },
      "source": [
        "### 10. Create a Python program that determines the grade of a student based on their score using if-else.\n"
      ]
    },
    {
      "cell_type": "code",
      "execution_count": null,
      "metadata": {
        "id": "BzftgGoij0yS",
        "outputId": "f71a7795-24e2-47ca-fe59-ea4ca182cb95"
      },
      "outputs": [
        {
          "name": "stdout",
          "output_type": "stream",
          "text": [
            "The student's grade is: C\n"
          ]
        }
      ],
      "source": [
        "# Input the student's score\n",
        "score = float(input(\"Enter the student's score: \"))\n",
        "\n",
        "# Determine the grade based on the score\n",
        "if 90 <= score <= 100:\n",
        "    grade = \"A\"\n",
        "elif 80 <= score < 90:\n",
        "    grade = \"B\"\n",
        "elif 70 <= score < 80:\n",
        "    grade = \"C\"\n",
        "elif 60 <= score < 70:\n",
        "    grade = \"D\"\n",
        "else:\n",
        "    grade = \"F\"\n",
        "\n",
        "print(\"The student's grade is:\", grade)\n"
      ]
    },
    {
      "cell_type": "markdown",
      "metadata": {
        "id": "lD_cnGWij0yS"
      },
      "source": [
        "### 11. Write a Python program to check if a string is empty or not using if-else.\n"
      ]
    },
    {
      "cell_type": "code",
      "execution_count": null,
      "metadata": {
        "id": "WTCsrWWAj0yT",
        "outputId": "35d6be7e-1b78-435a-9862-52c718f8ef4a"
      },
      "outputs": [
        {
          "name": "stdout",
          "output_type": "stream",
          "text": [
            "The string is empty.\n"
          ]
        }
      ],
      "source": [
        "# Input a string\n",
        "input_string = input(\"Enter a string: \")\n",
        "\n",
        "# Check if the string is empty\n",
        "if not input_string:\n",
        "    print(\"The string is empty.\")\n",
        "else:\n",
        "    print(\"The string is not empty.\")\n"
      ]
    },
    {
      "cell_type": "markdown",
      "metadata": {
        "id": "lBvIvL8sj0yU"
      },
      "source": [
        "### 12. Create a Python program that identifies the type of a triangle (e.g., equilateral, isosceles, or scalene) based on input values using if-else.\n"
      ]
    },
    {
      "cell_type": "code",
      "execution_count": null,
      "metadata": {
        "id": "z-oVkNioj0yU",
        "outputId": "000bfdb8-aa9a-4bbe-ca44-306029c5d49a"
      },
      "outputs": [
        {
          "name": "stdout",
          "output_type": "stream",
          "text": [
            "The triangle is Equilateral\n"
          ]
        }
      ],
      "source": [
        "# Input lengths of the three sides of a triangle\n",
        "side1 = float(input(\"Enter the length of side 1: \"))\n",
        "side2 = float(input(\"Enter the length of side 2: \"))\n",
        "side3 = float(input(\"Enter the length of side 3: \"))\n",
        "\n",
        "# Determine the type of triangle\n",
        "if side1 == side2 == side3:\n",
        "    triangle_type = \"Equilateral\"\n",
        "elif side1 == side2 or side2 == side3 or side1 == side3:\n",
        "    triangle_type = \"Isosceles\"\n",
        "else:\n",
        "    triangle_type = \"Scalene\"\n",
        "\n",
        "print(\"The triangle is\", triangle_type)\n"
      ]
    },
    {
      "cell_type": "markdown",
      "metadata": {
        "id": "ueFcrU2sj0yV"
      },
      "source": [
        "### 13. Write a Python program to determine the day of the week based on a user-provided number using if-else.\n"
      ]
    },
    {
      "cell_type": "code",
      "execution_count": null,
      "metadata": {
        "id": "hIVM2_8Bj0yV",
        "outputId": "4c462e37-3c06-43c0-a81c-f67a1297d860"
      },
      "outputs": [
        {
          "name": "stdout",
          "output_type": "stream",
          "text": [
            "The day of the week is: Wednesday\n"
          ]
        }
      ],
      "source": [
        "# Input a number for the day of the week (1 - 7)\n",
        "day_number = int(input(\"Enter a number (1-7) for the day of the week: \"))\n",
        "\n",
        "# Determine the day of the week\n",
        "if day_number == 1:\n",
        "    day_name = \"Sunday\"\n",
        "elif day_number == 2:\n",
        "    day_name = \"Monday\"\n",
        "elif day_number == 3:\n",
        "    day_name = \"Tuesday\"\n",
        "elif day_number == 4:\n",
        "    day_name = \"Wednesday\"\n",
        "elif day_number == 5:\n",
        "    day_name = \"Thursday\"\n",
        "elif day_number == 6:\n",
        "    day_name = \"Friday\"\n",
        "elif day_number == 7:\n",
        "    day_name = \"Saturday\"\n",
        "else:\n",
        "    day_name = \"Invalid input\"\n",
        "\n",
        "print(\"The day of the week is:\", day_name)\n"
      ]
    },
    {
      "cell_type": "markdown",
      "metadata": {
        "id": "M_DPx4GHj0yV"
      },
      "source": [
        "### 14. Create a Python program that checks if a given year is a leap year using both if-else and a function.\n"
      ]
    },
    {
      "cell_type": "code",
      "execution_count": null,
      "metadata": {
        "id": "4Qvi9CpDj0yW",
        "outputId": "b4a49d3a-4e3b-41ac-aabc-d6dc1a31cdc3"
      },
      "outputs": [
        {
          "name": "stdout",
          "output_type": "stream",
          "text": [
            "2023 is not a leap year.\n"
          ]
        }
      ],
      "source": [
        "# Function to check if a year is a leap year\n",
        "def is_leap_year(year):\n",
        "    if (year % 4 == 0 and year % 100 != 0) or (year % 400 == 0):\n",
        "        return True\n",
        "    else:\n",
        "        return False\n",
        "\n",
        "# Input year\n",
        "year = int(input(\"Enter a year: \"))\n",
        "\n",
        "# Check if the year is a leap year using the function\n",
        "if is_leap_year(year):\n",
        "    print(year, \"is a leap year.\")\n",
        "else:\n",
        "    print(year, \"is not a leap year.\")\n"
      ]
    },
    {
      "cell_type": "markdown",
      "metadata": {
        "id": "qpf8XrtHj0yW"
      },
      "source": [
        "### 15. How do you use the \"assert\" statement in Python to add debugging checks within if-else blocks?\n"
      ]
    },
    {
      "cell_type": "code",
      "execution_count": null,
      "metadata": {
        "id": "SbUMIZOLj0yX",
        "outputId": "c091f1a6-25e9-48be-b609-bf8c4893584e"
      },
      "outputs": [
        {
          "name": "stdout",
          "output_type": "stream",
          "text": [
            "You entered a positive number: 4\n"
          ]
        }
      ],
      "source": [
        "# Input a number\n",
        "number = int(input(\"Enter a number: \"))\n",
        "\n",
        "# Ensure that the number is positive\n",
        "assert number >= 0, \"Number must be positive.\"\n",
        "\n",
        "# If the assertion passes, continue with the program\n",
        "print(\"You entered a positive number:\", number)\n"
      ]
    },
    {
      "cell_type": "markdown",
      "metadata": {
        "id": "JR_ijw0Gj0yX"
      },
      "source": [
        "### 16. Create a Python program that determines the eligibility of a person for a senior citizen discount based on age using if-else.\n"
      ]
    },
    {
      "cell_type": "code",
      "execution_count": null,
      "metadata": {
        "id": "PvXjt5zRj0yY",
        "outputId": "ee85ef54-fe59-409b-ce79-b87e812e4f16"
      },
      "outputs": [
        {
          "name": "stdout",
          "output_type": "stream",
          "text": [
            "You are not eligible for a senior citizen discount.\n"
          ]
        }
      ],
      "source": [
        "# Input age\n",
        "age = int(input(\"Enter your age: \"))\n",
        "\n",
        "# Check eligibility for senior citizen discount\n",
        "if age >= 60:\n",
        "    print(\"You are eligible for a senior citizen discount.\")\n",
        "else:\n",
        "    print(\"You are not eligible for a senior citizen discount.\")\n",
        "\n"
      ]
    },
    {
      "cell_type": "markdown",
      "metadata": {
        "id": "PsE0Uvgsj0yY"
      },
      "source": [
        "### 17. Write a Python program to categorize a given character as uppercase, lowercase, or neither using if-else.\n"
      ]
    },
    {
      "cell_type": "code",
      "execution_count": null,
      "metadata": {
        "id": "-kasGqkLj0yZ",
        "outputId": "ac272d0a-2446-4776-c907-1a64036d4f01"
      },
      "outputs": [
        {
          "name": "stdout",
          "output_type": "stream",
          "text": [
            "The character is lowercase.\n"
          ]
        }
      ],
      "source": [
        "# Input a character\n",
        "char = input(\"Enter a character: \")\n",
        "\n",
        "# Check if the character is uppercase, lowercase, or neither\n",
        "if char.isupper():\n",
        "    print(\"The character is uppercase.\")\n",
        "elif char.islower():\n",
        "    print(\"The character is lowercase.\")\n",
        "else:\n",
        "    print(\"The character is neither uppercase nor lowercase.\")\n"
      ]
    },
    {
      "cell_type": "markdown",
      "metadata": {
        "id": "GUA0z7wUj0yZ"
      },
      "source": [
        "### 18. Write a Python program to determine the roots of a quadratic equation using if-else.\n"
      ]
    },
    {
      "cell_type": "code",
      "execution_count": null,
      "metadata": {
        "id": "H1IzVsJtj0yZ",
        "outputId": "31bc35c7-beca-46bf-8811-be12de59734e"
      },
      "outputs": [
        {
          "name": "stdout",
          "output_type": "stream",
          "text": [
            "Two distinct real roots: root1 = 0.5 and root2 = -3.0\n"
          ]
        }
      ],
      "source": [
        "import math\n",
        "\n",
        "# Input coefficients of the quadratic equation\n",
        "a = float(input(\"Enter coefficient a: \"))\n",
        "b = float(input(\"Enter coefficient b: \"))\n",
        "c = float(input(\"Enter coefficient c: \"))\n",
        "\n",
        "# Calculate the discriminant\n",
        "discriminant = b**2 - 4*a*c\n",
        "\n",
        "# Determine the roots of the quadratic equation\n",
        "if discriminant > 0:\n",
        "    root1 = (-b + math.sqrt(discriminant)) / (2*a)\n",
        "    root2 = (-b - math.sqrt(discriminant)) / (2*a)\n",
        "    print(\"Two distinct real roots: root1 =\", root1, \"and root2 =\", root2)\n",
        "elif discriminant == 0:\n",
        "    root1 = -b / (2*a)\n",
        "    print(\"One real root: root1 =\", root1)\n",
        "else:\n",
        "    real_part = -b / (2*a)\n",
        "    imaginary_part = math.sqrt(-discriminant) / (2*a)\n",
        "    print(\"Complex roots: root1 =\", real_part, \"+\", imaginary_part, \"i and root2 =\", real_part, \"-\", imaginary_part, \"i\")\n"
      ]
    },
    {
      "cell_type": "markdown",
      "metadata": {
        "id": "-9jGKy_ij0ya"
      },
      "source": [
        "### 19. Create a Python program that checks if a given year is a century year or not using if-else.\n"
      ]
    },
    {
      "cell_type": "code",
      "execution_count": null,
      "metadata": {
        "id": "X1tFj7NUj0ya",
        "outputId": "18ac8b06-2464-4cd2-d54e-61d56fdf33c7"
      },
      "outputs": [
        {
          "name": "stdout",
          "output_type": "stream",
          "text": [
            "2023 is not a century year.\n"
          ]
        }
      ],
      "source": [
        "# Input year\n",
        "year = int(input(\"Enter a year: \"))\n",
        "\n",
        "# Check if the year is a century year (divisible by 100)\n",
        "if year % 100 == 0:\n",
        "    print(year, \"is a century year.\")\n",
        "else:\n",
        "    print(year, \"is not a century year.\")\n"
      ]
    },
    {
      "cell_type": "markdown",
      "metadata": {
        "id": "fZKsTNx4j0ya"
      },
      "source": [
        "### 20. Write a Python program to determine if a given number is a perfect square using if-else.\n"
      ]
    },
    {
      "cell_type": "code",
      "execution_count": null,
      "metadata": {
        "id": "g_qxofYAj0yb",
        "outputId": "8da7d347-fca6-408c-fc6e-9aea08016d33"
      },
      "outputs": [
        {
          "name": "stdout",
          "output_type": "stream",
          "text": [
            "25 is a perfect square.\n"
          ]
        }
      ],
      "source": [
        "# Input a number\n",
        "number = int(input(\"Enter a number: \"))\n",
        "\n",
        "# Calculate the square root of the number\n",
        "sqrt_number = int(number ** 0.5)\n",
        "\n",
        "# Check if the number is a perfect square\n",
        "if sqrt_number * sqrt_number == number:\n",
        "    print(number, \"is a perfect square.\")\n",
        "else:\n",
        "    print(number, \"is not a perfect square.\")\n"
      ]
    },
    {
      "cell_type": "markdown",
      "metadata": {
        "id": "4qG4_Kg_j0yb"
      },
      "source": [
        "### 21. Explain the purpose of the \"continue\" and \"break\" statements within if-else loops.\n"
      ]
    },
    {
      "cell_type": "markdown",
      "metadata": {
        "id": "ZaC_TP0jj0yb"
      },
      "source": [
        "- **\"continue\" statement:** The \"continue\" statement is used within loops (e.g., \"for\" or \"while\" loops) to skip the rest of the current iteration and move to the next iteration. It is typically used when a specific condition is met and you want to skip some code for that particular iteration but continue with the next iteration. For example, in a loop that processes elements of a list, you might use \"continue\" to skip elements that meet a certain condition.\n",
        "\n",
        "- **\"break\" statement:** The \"break\" statement is used within loops to terminate the loop prematurely, even if the loop's condition is not met. When a \"break\" statement is encountered, the loop immediately exits, and control flows to the code after the loop. \"break\" is commonly used when you want to exit a loop early based on some condition or when you have found the result you were looking for."
      ]
    },
    {
      "cell_type": "markdown",
      "metadata": {
        "id": "tzqGgm89j0yc"
      },
      "source": [
        "### 22. Create a Python program that calculates the BMI (Body Mass Index) of a person based on their weight and height using if-else.\n"
      ]
    },
    {
      "cell_type": "code",
      "execution_count": null,
      "metadata": {
        "id": "TAwGgcgTj0yc",
        "outputId": "94da5839-d2d4-46ff-b3b6-9e74b3a4ccaf"
      },
      "outputs": [
        {
          "name": "stdout",
          "output_type": "stream",
          "text": [
            "BMI: 17.901234567901234\n",
            "Category: Underweight\n"
          ]
        }
      ],
      "source": [
        "# Input weight in kilograms and height in meters\n",
        "weight = float(input(\"Enter weight in kilograms: \"))\n",
        "height = float(input(\"Enter height in meters: \"))\n",
        "\n",
        "# Calculate BMI\n",
        "bmi = weight / (height ** 2)\n",
        "\n",
        "# Determine BMI category\n",
        "if bmi < 18.5:\n",
        "    category = \"Underweight\"\n",
        "elif 18.5 <= bmi < 24.9:\n",
        "    category = \"Normal Weight\"\n",
        "elif 25 <= bmi < 29.9:\n",
        "    category = \"Overweight\"\n",
        "else:\n",
        "    category = \"Obese\"\n",
        "\n",
        "print(\"BMI:\", bmi)\n",
        "print(\"Category:\", category)"
      ]
    },
    {
      "cell_type": "markdown",
      "metadata": {
        "id": "00urPsFMj0yc"
      },
      "source": [
        "### 23. How can you use the \"filter()\" function with if-else statements to filter elements from a list?\n"
      ]
    },
    {
      "cell_type": "markdown",
      "metadata": {
        "id": "k8lW3t-Pj0yd"
      },
      "source": [
        "The \"filter()\" function is used to filter elements from an iterable (e.g., a list) based on a specified condition. You can use \"filter()\" in combination with a lambda function or a regular function that defines the condition for filtering.\n",
        "\n",
        "In the below example, the lambda function checks if a number is even, and \"filter()\" is used to filter elements from the list based on this condition."
      ]
    },
    {
      "cell_type": "code",
      "execution_count": null,
      "metadata": {
        "id": "Dl5GwsMej0yd",
        "outputId": "a08c93ec-bd37-4d8d-b89e-1106e7cb9f24"
      },
      "outputs": [
        {
          "name": "stdout",
          "output_type": "stream",
          "text": [
            "Even numbers: [2, 4, 6, 8, 10]\n"
          ]
        }
      ],
      "source": [
        "\n",
        "# Input a list of numbers\n",
        "numbers = [1, 2, 3, 4, 5, 6, 7, 8, 9, 10]\n",
        "\n",
        "# Define a filtering function using \"filter()\" and a lambda function\n",
        "filtered_numbers = list(filter(lambda x: x % 2 == 0, numbers))\n",
        "\n",
        "# Display the filtered numbers\n",
        "print(\"Even numbers:\", filtered_numbers)\n"
      ]
    },
    {
      "cell_type": "markdown",
      "metadata": {
        "id": "h7Qe7rmqj0yd"
      },
      "source": [
        "### 24. Write a Python program to determine if a given number is prime or not using if-else.\n"
      ]
    },
    {
      "cell_type": "markdown",
      "metadata": {
        "id": "NP5aMZ9Hj0yd"
      },
      "source": [
        "This program checks whether a given number is prime or not using \"if-else\" and a \"for\" loop. It iterates through numbers from 2 to the square root of the input number and checks for divisibility. If the input number is divisible by any number in this range, it's not prime; otherwise, it's prime.\n"
      ]
    },
    {
      "cell_type": "code",
      "execution_count": null,
      "metadata": {
        "id": "GboYPc59j0ye",
        "outputId": "a53e63e9-e49e-4d2b-f2bf-b8b5804a4e8f"
      },
      "outputs": [
        {
          "name": "stdout",
          "output_type": "stream",
          "text": [
            "34 is not a prime number.\n"
          ]
        }
      ],
      "source": [
        "\n",
        "# Input a number\n",
        "number = int(input(\"Enter a number: \"))\n",
        "\n",
        "# Check if the number is prime\n",
        "if number > 1:\n",
        "    for i in range(2, int(number**0.5) + 1):\n",
        "        if number % i == 0:\n",
        "            print(number, \"is not a prime number.\")\n",
        "            break\n",
        "    else:\n",
        "        print(number, \"is a prime number.\")\n",
        "else:\n",
        "    print(number, \"is not a prime number.\")\n"
      ]
    },
    {
      "cell_type": "markdown",
      "metadata": {
        "id": "T9pDLGSGj0ye"
      },
      "source": [
        "## **Map Function:**"
      ]
    },
    {
      "cell_type": "markdown",
      "metadata": {
        "id": "6b3LDqEkj0yf"
      },
      "source": [
        "### 1. Explain the purpose of the `map()` function in Python and provide an example of how it can be used to apply a function to each element of an iterable.\n"
      ]
    },
    {
      "cell_type": "markdown",
      "metadata": {
        "id": "CMW4sUrlj0yf"
      },
      "source": [
        "- The `map()` function is used in Python to apply a given function to each item in an iterable (e.g., a list) and returns an iterator containing the results."
      ]
    },
    {
      "cell_type": "code",
      "execution_count": null,
      "metadata": {
        "id": "bpY8Y3s6j0yf",
        "outputId": "b528d556-5361-43d7-f5f2-94b4bf9f1124"
      },
      "outputs": [
        {
          "name": "stdout",
          "output_type": "stream",
          "text": [
            "[1, 4, 9, 16, 25]\n"
          ]
        }
      ],
      "source": [
        "# Define a function to square a number\n",
        "def square(x):\n",
        "    return x ** 2\n",
        "\n",
        "# Create a list of numbers\n",
        "numbers = [1, 2, 3, 4, 5]\n",
        "\n",
        "# Use map() to apply the square function to each element in the list\n",
        "squared_numbers = map(square, numbers)\n",
        "\n",
        "# Convert the result to a list (if needed)\n",
        "squared_numbers_list = list(squared_numbers)\n",
        "\n",
        "print(squared_numbers_list)  # Output: [1, 4, 9, 16, 25]"
      ]
    },
    {
      "cell_type": "markdown",
      "metadata": {
        "id": "qMuOoOH5j0yf"
      },
      "source": [
        "### 2. Write a Python program that uses the `map()` function to square each element of a list of numbers.\n"
      ]
    },
    {
      "cell_type": "code",
      "execution_count": null,
      "metadata": {
        "id": "t7JqOYPBj0yg",
        "outputId": "876d8aae-1d50-4a45-9678-992d0649705e"
      },
      "outputs": [
        {
          "name": "stdout",
          "output_type": "stream",
          "text": [
            "[1, 4, 9, 16, 25]\n"
          ]
        }
      ],
      "source": [
        "# Define a function to square a number\n",
        "def square(x):\n",
        "    return x ** 2\n",
        "\n",
        "numbers = [1, 2, 3, 4, 5]\n",
        "\n",
        "# Use map() to square each element in the list\n",
        "squared_numbers = map(square, numbers)\n",
        "squared_numbers_list = list(squared_numbers)\n",
        "\n",
        "print(squared_numbers_list)  # Output: [1, 4, 9, 16, 25]"
      ]
    },
    {
      "cell_type": "markdown",
      "metadata": {
        "id": "08H6lg96j0yg"
      },
      "source": [
        "### 3. How does the `map()` function differ from a list comprehension in Python, and when would you choose one over the other?\n"
      ]
    },
    {
      "cell_type": "markdown",
      "metadata": {
        "id": "ptbGalswj0yg"
      },
      "source": [
        "- The `map()` function and list comprehensions are both used for transforming and applying operations to elements in an iterable. However, they differ in syntax and usage:\n",
        "\n",
        "- `map()`: The `map()` function applies a specified function to each element of an iterable and returns an iterator. It requires defining a separate function for the transformation.\n",
        "\n",
        "- List Comprehension: List comprehensions provide a concise way to create new lists by applying an expression to each element in an iterable. They are written within square brackets `[...]` and often require less code than `map()`.\n"
      ]
    },
    {
      "cell_type": "markdown",
      "metadata": {
        "id": "iI6X0k8Zj0yg"
      },
      "source": [
        "### 4. Create a Python program that uses the `map()` function to convert a list of names to uppercase.\n"
      ]
    },
    {
      "cell_type": "code",
      "execution_count": null,
      "metadata": {
        "id": "aNzRoC6xj0yh",
        "outputId": "7a2cca39-fa68-43ce-d0c0-4ee1414b4e6c"
      },
      "outputs": [
        {
          "name": "stdout",
          "output_type": "stream",
          "text": [
            "['ALICE', 'BOB', 'CHARLIE']\n"
          ]
        }
      ],
      "source": [
        "# Define a function to convert a name to uppercase\n",
        "def uppercase(name):\n",
        "    return name.upper()\n",
        "\n",
        "names = [\"Alice\", \"Bob\", \"Charlie\"]\n",
        "\n",
        "# Use map() to convert each name to uppercase\n",
        "uppercase_names = map(uppercase, names)\n",
        "uppercase_names_list = list(uppercase_names)\n",
        "\n",
        "print(uppercase_names_list)  # Output: ['ALICE', 'BOB', 'CHARLIE']"
      ]
    },
    {
      "cell_type": "markdown",
      "metadata": {
        "id": "sdhCAcDYj0yh"
      },
      "source": [
        "### 5. Write a Python program that uses the `map()` function to calculate the length of each word in a list of strings.\n"
      ]
    },
    {
      "cell_type": "code",
      "execution_count": null,
      "metadata": {
        "id": "Mc4E5iSRj0yh",
        "outputId": "209004b0-7370-4e1d-cea5-eb63b1c350b6"
      },
      "outputs": [
        {
          "name": "stdout",
          "output_type": "stream",
          "text": [
            "[5, 6, 6, 4, 3]\n"
          ]
        }
      ],
      "source": [
        "# Define a function to calculate the length of a word\n",
        "def word_length(word):\n",
        "    return len(word)\n",
        "\n",
        "words = [\"apple\", \"banana\", \"cherry\", \"date\", \"fig\"]\n",
        "\n",
        "# Use map() to calculate the length of each word\n",
        "word_lengths = map(word_length, words)\n",
        "word_lengths_list = list(word_lengths)\n",
        "\n",
        "print(word_lengths_list)  # Output: [5, 6, 6, 4, 3]"
      ]
    },
    {
      "cell_type": "markdown",
      "metadata": {
        "id": "3sRQu7O4j0yi"
      },
      "source": [
        "### 6. How can you use the `map()` function to apply a custom function to elements of multiple lists simultaneously in Python?\n"
      ]
    },
    {
      "cell_type": "markdown",
      "metadata": {
        "id": "H0DELgLZj0yi"
      },
      "source": [
        "To apply a custom function to elements of multiple lists simultaneously, you can pass multiple iterables to the `map()` function, and the custom function should accept corresponding elements from each iterable. Here's an example:"
      ]
    },
    {
      "cell_type": "code",
      "execution_count": null,
      "metadata": {
        "id": "o9OHH9ZKj0yi",
        "outputId": "c0770ddc-f636-4df7-9ac2-0020a958c876"
      },
      "outputs": [
        {
          "name": "stdout",
          "output_type": "stream",
          "text": [
            "[11, 22, 33, 44]\n"
          ]
        }
      ],
      "source": [
        "# Define a custom function to calculate the sum of corresponding elements from two lists\n",
        "def add_lists(x, y):\n",
        "    return x + y\n",
        "\n",
        "list1 = [1, 2, 3, 4]\n",
        "list2 = [10, 20, 30, 40]\n",
        "\n",
        "# Use map() to apply add_lists to corresponding elements of list1 and list2\n",
        "result = map(add_lists, list1, list2)\n",
        "result_list = list(result)\n",
        "\n",
        "print(result_list)  # Output: [11, 22, 33, 44]"
      ]
    },
    {
      "cell_type": "markdown",
      "metadata": {
        "id": "o_RMFI23j0yj"
      },
      "source": [
        "### 7. Create a Python program that uses `map()` to convert a list of temperatures from Celsius to Fahrenheit.\n"
      ]
    },
    {
      "cell_type": "code",
      "execution_count": null,
      "metadata": {
        "id": "lNnpXczOj0yj",
        "outputId": "66e35db8-940c-4e72-c9d8-82dd60edd655"
      },
      "outputs": [
        {
          "name": "stdout",
          "output_type": "stream",
          "text": [
            "[32.0, 77.0, 212.0]\n"
          ]
        }
      ],
      "source": [
        "# Define a function to convert Celsius to Fahrenheit\n",
        "def celsius_to_fahrenheit(celsius):\n",
        "    return (celsius * 9/5) + 32\n",
        "\n",
        "celsius_temperatures = [0, 25, 100]\n",
        "\n",
        "# Use map() to convert the temperatures to Fahrenheit\n",
        "fahrenheit_temperatures = map(celsius_to_fahrenheit, celsius_temperatures)\n",
        "fahrenheit_temperatures_list = list(fahrenheit_temperatures)\n",
        "\n",
        "print(fahrenheit_temperatures_list)  # Output: [32.0, 77.0, 212.0]"
      ]
    },
    {
      "cell_type": "markdown",
      "metadata": {
        "id": "deqKLP4Tj0yj"
      },
      "source": [
        "### 8. Write a Python program that uses the `map()` function to round each element of a list of floating-point numbers to the nearest integer.\n"
      ]
    },
    {
      "cell_type": "code",
      "execution_count": null,
      "metadata": {
        "id": "1d-dCL3dj0yk",
        "outputId": "8d81fb80-0142-447a-b99e-1af8472fdfc3"
      },
      "outputs": [
        {
          "name": "stdout",
          "output_type": "stream",
          "text": [
            "[1, 3, 3, 5]\n"
          ]
        }
      ],
      "source": [
        "# Define a function to round a number to the nearest integer\n",
        "def round_to_integer(number):\n",
        "    return round(number)\n",
        "\n",
        "float_numbers = [1.4, 2.7, 3.1, 4.9]\n",
        "\n",
        "# Use map() to round each element to the nearest integer\n",
        "rounded_numbers = map(round_to_integer, float_numbers)\n",
        "rounded_numbers_list = list(rounded_numbers)\n",
        "\n",
        "print(rounded_numbers_list)  # Output: [1, 3, 3, 5]"
      ]
    },
    {
      "cell_type": "markdown",
      "metadata": {
        "id": "HB24R-O1j0yk"
      },
      "source": [
        "\n",
        "## **Reduce Function:**\n"
      ]
    },
    {
      "cell_type": "markdown",
      "metadata": {
        "id": "A-8PQ8RRj0yk"
      },
      "source": [
        "### 1. What is the `reduce()` function in Python, and what module should you import to use it? Provide an example of its basic usage.\n"
      ]
    },
    {
      "cell_type": "markdown",
      "metadata": {
        "id": "GuEy6PZGj0yl"
      },
      "source": [
        "- The `reduce()` function is part of the `functools` module in Python. It's used for aggregating the elements of an iterable (e.g., a list) by applying a binary function cumulatively from left to right.\n",
        "\n",
        "\n",
        "In this example, we import `reduce` from `functools` and use it to find the sum of all elements in the `numbers` list by applying the `add` function cumulatively."
      ]
    },
    {
      "cell_type": "code",
      "execution_count": null,
      "metadata": {
        "id": "ikcU5Uq6j0yl",
        "outputId": "025301ad-8408-4e47-81fb-817104314d51"
      },
      "outputs": [
        {
          "name": "stdout",
          "output_type": "stream",
          "text": [
            "15\n"
          ]
        }
      ],
      "source": [
        "from functools import reduce\n",
        "\n",
        "# Define a binary function to add two numbers\n",
        "def add(x, y):\n",
        "    return x + y\n",
        "\n",
        "# Create a list of numbers\n",
        "numbers = [1, 2, 3, 4, 5]\n",
        "\n",
        "# Use reduce() to find the sum of all elements in the list\n",
        "result = reduce(add, numbers)\n",
        "\n",
        "print(result)  # Output: 15 (1 + 2 + 3 + 4 + 5)"
      ]
    },
    {
      "cell_type": "markdown",
      "metadata": {
        "id": "brlmIIGqj0ym"
      },
      "source": [
        "### 2. Write a Python program that uses the `reduce()` function to find the product of all elements in a list.\n"
      ]
    },
    {
      "cell_type": "code",
      "execution_count": null,
      "metadata": {
        "id": "L1zJtQ93j0ym",
        "outputId": "b0a6a8be-d79c-44a3-d98b-35670d691fbc"
      },
      "outputs": [
        {
          "name": "stdout",
          "output_type": "stream",
          "text": [
            "120\n"
          ]
        }
      ],
      "source": [
        "from functools import reduce\n",
        "\n",
        "# Define a binary function to multiply two numbers\n",
        "def multiply(x, y):\n",
        "    return x * y\n",
        "\n",
        "numbers = [1, 2, 3, 4, 5]\n",
        "\n",
        "# Use reduce() to find the product of all elements in the list\n",
        "product = reduce(multiply, numbers)\n",
        "\n",
        "print(product)  # Output: 120 (1 * 2 * 3 * 4 * 5)"
      ]
    },
    {
      "cell_type": "markdown",
      "metadata": {
        "id": "QfDA0hWFj0ym"
      },
      "source": [
        "### 3. Create a Python program that uses `reduce()` to find the maximum element in a list of numbers.\n"
      ]
    },
    {
      "cell_type": "code",
      "execution_count": null,
      "metadata": {
        "id": "xpnw1bbhj0ym",
        "outputId": "160f4057-2c42-4ffb-9771-1dd55c208f3f"
      },
      "outputs": [
        {
          "name": "stdout",
          "output_type": "stream",
          "text": [
            "24\n"
          ]
        }
      ],
      "source": [
        "from functools import reduce\n",
        "\n",
        "# Define a binary function to find the maximum of two numbers\n",
        "def max_of_two(x, y):\n",
        "    return x if x > y else y\n",
        "\n",
        "numbers = [12, 5, 24, 9, 15, 3, 8]\n",
        "\n",
        "# Use reduce() to find the maximum element in the list\n",
        "maximum = reduce(max_of_two, numbers)\n",
        "\n",
        "print(maximum)  # Output: 24 (the maximum element in the list)"
      ]
    },
    {
      "cell_type": "markdown",
      "metadata": {
        "id": "_8-W8Pakj0yn"
      },
      "source": [
        "### 4. How can you use the `reduce()` function to concatenate a list of strings into a single string?\n"
      ]
    },
    {
      "cell_type": "markdown",
      "metadata": {
        "id": "xB4nFxkcj0yn"
      },
      "source": [
        "We can use `reduce()` to concatenate a list of strings into a single string by defining a binary function that concatenates two strings together."
      ]
    },
    {
      "cell_type": "code",
      "execution_count": null,
      "metadata": {
        "id": "iqclT2m9j0yn",
        "outputId": "eee64a85-19a5-42d8-83df-44dcb79f8c85"
      },
      "outputs": [
        {
          "name": "stdout",
          "output_type": "stream",
          "text": [
            "Hello World!\n"
          ]
        }
      ],
      "source": [
        "from functools import reduce\n",
        "\n",
        "# Define a binary function to concatenate two strings\n",
        "def concatenate_strings(x, y):\n",
        "    return x + y\n",
        "\n",
        "words = [\"Hello\", \" \", \"World\", \"!\"]\n",
        "\n",
        "# Use reduce() to concatenate the list of strings into a single string\n",
        "result = reduce(concatenate_strings, words)\n",
        "\n",
        "print(result)  # Output: Hello World!"
      ]
    },
    {
      "cell_type": "markdown",
      "metadata": {
        "id": "FtMYYNNFj0yo"
      },
      "source": [
        "### 5. Write a Python program that calculates the factorial of a number using the `reduce()` function.\n"
      ]
    },
    {
      "cell_type": "code",
      "execution_count": null,
      "metadata": {
        "id": "LPWvkZU8j0yo",
        "outputId": "9eae0ec6-acd6-4889-c2a5-f1f7e602f519"
      },
      "outputs": [
        {
          "name": "stdout",
          "output_type": "stream",
          "text": [
            "120\n"
          ]
        }
      ],
      "source": [
        "from functools import reduce\n",
        "\n",
        "# Define a binary function to calculate the factorial of a number\n",
        "def factorial(x, y):\n",
        "    return x * y\n",
        "\n",
        "n = 5\n",
        "\n",
        "# Use reduce() to calculate the factorial of n\n",
        "result = reduce(factorial, range(1, n + 1))\n",
        "\n",
        "print(result)  # Output: 120 (5!)"
      ]
    },
    {
      "cell_type": "markdown",
      "metadata": {
        "id": "tsGEx-qsj0yo"
      },
      "source": [
        "### 6. Create a Python program that uses `reduce()` to find the GCD (Greatest Common Divisor) of a list of numbers.\n"
      ]
    },
    {
      "cell_type": "code",
      "execution_count": null,
      "metadata": {
        "id": "Mj3jBOikj0yp",
        "outputId": "2b977098-9c37-4657-ca34-fbb2890af9db"
      },
      "outputs": [
        {
          "name": "stdout",
          "output_type": "stream",
          "text": [
            "12\n"
          ]
        }
      ],
      "source": [
        "from functools import reduce\n",
        "import math\n",
        "\n",
        "# Define a binary function to find the GCD of two numbers\n",
        "def gcd(x, y):\n",
        "    return math.gcd(x, y)\n",
        "\n",
        "numbers = [24, 36, 48, 60]\n",
        "\n",
        "# Use reduce() to find the GCD of the list of numbers\n",
        "result = reduce(gcd, numbers)\n",
        "\n",
        "print(result)  # Output: 12 (GCD of 24, 36, 48, 60)"
      ]
    },
    {
      "cell_type": "markdown",
      "metadata": {
        "id": "KFcex0SYj0yp"
      },
      "source": [
        "### 7. Write a Python program that uses the `reduce()` function to find the sum of the digits of a given number.\n"
      ]
    },
    {
      "cell_type": "code",
      "execution_count": null,
      "metadata": {
        "id": "w58ghPtlj0yp",
        "outputId": "2d2b9d3a-33e4-45dc-aa5d-18d9379f1fa7"
      },
      "outputs": [
        {
          "name": "stdout",
          "output_type": "stream",
          "text": [
            "Sum of Digits: 15\n"
          ]
        }
      ],
      "source": [
        "from functools import reduce\n",
        "\n",
        "# Define a binary function to sum the digits of a number\n",
        "def sum_digits(x, y):\n",
        "    return x + y\n",
        "\n",
        "# Input: A number\n",
        "number = 12345\n",
        "\n",
        "# Convert the number to a string to iterate through its digits\n",
        "number_str = str(number)\n",
        "\n",
        "# Initialize digit_sum as an integer\n",
        "digit_sum = 0\n",
        "\n",
        "# Use reduce() to find the sum of the digits of the number\n",
        "digit_sum = reduce(sum_digits, [digit_sum, *map(int, number_str)])\n",
        "\n",
        "print(\"Sum of Digits:\", digit_sum)  # Output: Sum of Digits: 15 (1 + 2 + 3 + 4 + 5)\n"
      ]
    },
    {
      "cell_type": "markdown",
      "metadata": {
        "id": "70N7nfn2j0yp"
      },
      "source": [
        "\n",
        "## **Filter Function:**"
      ]
    },
    {
      "cell_type": "markdown",
      "metadata": {
        "id": "kSJtv8YZj0yq"
      },
      "source": [
        "### 1. Explain the purpose of the `filter()` function in Python and provide an example of how it can be used to filter elements from an iterable.\n"
      ]
    },
    {
      "cell_type": "markdown",
      "metadata": {
        "id": "oIostKCcj0yq"
      },
      "source": [
        "- The `filter()` function in Python is used to filter elements from an iterable (e.g., a list) based on a specified function's criteria. It returns an iterator that contains only the elements for which the function returns `True`."
      ]
    },
    {
      "cell_type": "code",
      "execution_count": null,
      "metadata": {
        "id": "SXxN7jtsj0yq",
        "outputId": "08737c03-852a-42e7-fe76-1aaee3ef2aa9"
      },
      "outputs": [
        {
          "name": "stdout",
          "output_type": "stream",
          "text": [
            "[2, 4, 6, 8, 10]\n"
          ]
        }
      ],
      "source": [
        "'''\n",
        "In this example, the `filter()` function is used with the is_even function to filter out the even numbers from the numbers list.\n",
        "'''\n",
        "\n",
        "# Define a function to check if a number is even\n",
        "def is_even(x):\n",
        "    return x % 2 == 0\n",
        "\n",
        "# Create a list of numbers\n",
        "numbers = [1, 2, 3, 4, 5, 6, 7, 8, 9, 10]\n",
        "\n",
        "# Use filter() to select only the even numbers\n",
        "even_numbers = filter(is_even, numbers)\n",
        "\n",
        "# Convert the result to a list (if needed)\n",
        "even_numbers_list = list(even_numbers)\n",
        "\n",
        "print(even_numbers_list)  # Output: [2, 4, 6, 8, 10]"
      ]
    },
    {
      "cell_type": "markdown",
      "metadata": {
        "id": "sHlLtGivj0yr"
      },
      "source": [
        "### 2. Write a Python program that uses the `filter()` function to select even numbers from a list of integers.\n"
      ]
    },
    {
      "cell_type": "code",
      "execution_count": null,
      "metadata": {
        "id": "W_Tv4RT_j0yr",
        "outputId": "21bd5d2f-cb6f-40c3-bd7b-67553ad2fdb7"
      },
      "outputs": [
        {
          "name": "stdout",
          "output_type": "stream",
          "text": [
            "[2, 4, 6, 8, 10]\n"
          ]
        }
      ],
      "source": [
        "def is_even(x):\n",
        "    return x % 2 == 0\n",
        "\n",
        "numbers = [1, 2, 3, 4, 5, 6, 7, 8, 9, 10]\n",
        "\n",
        "even_numbers = filter(is_even, numbers)\n",
        "even_numbers_list = list(even_numbers)\n",
        "\n",
        "print(even_numbers_list)  # Output: [2, 4, 6, 8, 10]"
      ]
    },
    {
      "cell_type": "markdown",
      "metadata": {
        "id": "80AYDjqMj0yr"
      },
      "source": [
        "### 3. Create a Python program that uses the `filter()` function to select names that start with a specific letter from a list of strings.\n"
      ]
    },
    {
      "cell_type": "code",
      "execution_count": null,
      "metadata": {
        "id": "g_SCqQPKj0yr",
        "outputId": "29f33613-c3e8-45f7-e0b4-0c2311a8a209"
      },
      "outputs": [
        {
          "name": "stdout",
          "output_type": "stream",
          "text": [
            "['Charlie']\n"
          ]
        }
      ],
      "source": [
        "'''\n",
        "In this example, a lambda function is used to generate a filtering function based on the desired starting letter.\n",
        "The filter() function is then used to select names that match the criterion.\n",
        "'''\n",
        "\n",
        "def starts_with_letter(letter):\n",
        "    return lambda name: name.startswith(letter)\n",
        "\n",
        "names = [\"Alice\", \"Bob\", \"Charlie\", \"David\", \"Eva\"]\n",
        "letter_to_filter = \"C\"\n",
        "\n",
        "filtered_names = filter(starts_with_letter(letter_to_filter), names)\n",
        "filtered_names_list = list(filtered_names)\n",
        "\n",
        "print(filtered_names_list)  # Output: ['Charlie']"
      ]
    },
    {
      "cell_type": "markdown",
      "metadata": {
        "id": "tMPeOXZ6j0ys"
      },
      "source": [
        "### 4. Write a Python program that uses the `filter()` function to select prime numbers from a list of integers.\n"
      ]
    },
    {
      "cell_type": "code",
      "execution_count": null,
      "metadata": {
        "id": "M8_GXnL6j0ys",
        "outputId": "0e82b68a-6f9f-4667-aa69-a6f2055f81e4"
      },
      "outputs": [
        {
          "name": "stdout",
          "output_type": "stream",
          "text": [
            "[2, 3, 5, 7, 11, 13, 17]\n"
          ]
        }
      ],
      "source": [
        "def is_prime(n):\n",
        "    if n <= 1:\n",
        "        return False\n",
        "    elif n <= 3:\n",
        "        return True\n",
        "    elif n % 2 == 0 or n % 3 == 0:\n",
        "        return False\n",
        "    i = 5\n",
        "    while i * i <= n:\n",
        "        if n % i == 0 or n % (i + 2) == 0:\n",
        "            return False\n",
        "        i += 6\n",
        "    return True\n",
        "\n",
        "numbers = [2, 3, 5, 7, 8, 11, 13, 17, 20]\n",
        "\n",
        "prime_numbers = filter(is_prime, numbers)\n",
        "prime_numbers_list = list(prime_numbers)\n",
        "\n",
        "print(prime_numbers_list)  # Output: [2, 3, 5, 7, 11, 13, 17]"
      ]
    },
    {
      "cell_type": "markdown",
      "metadata": {
        "id": "W6wxc8Aoj0ys"
      },
      "source": [
        "### 5. How can you use the `filter()` function to remove None values from a list in Python?\n"
      ]
    },
    {
      "cell_type": "code",
      "execution_count": null,
      "metadata": {
        "id": "cHQQrRJwj0yt",
        "outputId": "6909e60a-d6fe-4a80-8218-c39bbef4837a"
      },
      "outputs": [
        {
          "name": "stdout",
          "output_type": "stream",
          "text": [
            "[1, 2, 3, 4, 5]\n"
          ]
        }
      ],
      "source": [
        "'''\n",
        "In this example, the `remove_none` function is used to filter out `None` values from the `my_list`.\n",
        "'''\n",
        "\n",
        "def remove_none(value):\n",
        "    return value is not None\n",
        "\n",
        "my_list = [1, None, 2, 3, None, 4, 5]\n",
        "\n",
        "filtered_list = filter(remove_none, my_list)\n",
        "filtered_list = list(filtered_list)\n",
        "\n",
        "print(filtered_list)  # Output: [1, 2, 3, 4, 5]"
      ]
    },
    {
      "cell_type": "markdown",
      "metadata": {
        "id": "5AN8X-q4j0yt"
      },
      "source": [
        "### 6. Create a Python program that uses `filter()` to select words longer than a certain length from a list of strings.\n"
      ]
    },
    {
      "cell_type": "code",
      "execution_count": null,
      "metadata": {
        "id": "dWNqITn4j0yt",
        "outputId": "a7758362-018f-4d1d-b5fb-529eed6e30ef"
      },
      "outputs": [
        {
          "name": "stdout",
          "output_type": "stream",
          "text": [
            "['banana', 'cherry']\n"
          ]
        }
      ],
      "source": [
        "'''\n",
        "In this example, a lambda function is used to create a filtering function that checks if a word is longer than the specified length. The filter() function selects words that meet this criterion.\n",
        "'''\n",
        "\n",
        "def is_long_word(word, length):\n",
        "    return len(word) > length\n",
        "\n",
        "words = [\"apple\", \"banana\", \"cherry\", \"date\", \"fig\"]\n",
        "min_length = 5\n",
        "\n",
        "long_words = filter(lambda word: is_long_word(word, min_length), words)\n",
        "long_words_list = list(long_words)\n",
        "\n",
        "print(long_words_list)  # Output: ['banana', 'cherry']"
      ]
    },
    {
      "cell_type": "markdown",
      "metadata": {
        "id": "hSDbWqDPj0yu"
      },
      "source": [
        "### 7. Write a Python program that uses the `filter()` function to select elements greater than a specified threshold from a list of values.\n"
      ]
    },
    {
      "cell_type": "code",
      "execution_count": null,
      "metadata": {
        "id": "GgajbnhYj0yu",
        "outputId": "34a6798d-d0dd-4713-dfe5-3ad20a81f557"
      },
      "outputs": [
        {
          "name": "stdout",
          "output_type": "stream",
          "text": [
            "[12, 24, 15]\n"
          ]
        }
      ],
      "source": [
        "'''\n",
        "In this example, a lambda function is used to create a filtering function that checks if a value is greater than the specified threshold. The `filter()` function selects values that meet this criterion.\n",
        "'''\n",
        "\n",
        "def is_greater_than_threshold(value, threshold):\n",
        "    return value > threshold\n",
        "\n",
        "values = [12, 5, 24, 9, 15, 3, 8]\n",
        "threshold_value = 10\n",
        "\n",
        "filtered_values = filter(lambda value: is_greater_than_threshold(value, threshold_value), values)\n",
        "filtered_values_list = list(filtered_values)\n",
        "\n",
        "print(filtered_values_list)  # Output: [12, 24, 15]"
      ]
    },
    {
      "cell_type": "markdown",
      "metadata": {
        "id": "spcn8pDEj0yu"
      },
      "source": [
        "\n",
        "\n",
        "## **Recursion:**"
      ]
    },
    {
      "cell_type": "markdown",
      "metadata": {
        "id": "62qyZ4Qpj0yu"
      },
      "source": [
        "### 1. Explain the concept of recursion in Python. How does it differ from iteration?\n"
      ]
    },
    {
      "cell_type": "markdown",
      "metadata": {
        "id": "DJr8e8O2j0yv"
      },
      "source": [
        "- Recursion is a programming technique in which a function calls itself to solve a problem. It breaks a problem into smaller, similar subproblems and solves them recursively. Each recursive call reduces the problem until it reaches a base case where no further recursion is needed.\n",
        "\n",
        "- Iteration, on the other hand, involves using loops (e.g., `for` or `while` loops) to repeatedly execute a set of statements until a condition is met. Recursion and iteration can often be used interchangeably, but recursion is particularly suited for problems with a recursive structure.\n"
      ]
    },
    {
      "cell_type": "markdown",
      "metadata": {
        "id": "OXvPIkARj0yv"
      },
      "source": [
        "### 2. Write a Python program to calculate the factorial of a number using recursion.\n"
      ]
    },
    {
      "cell_type": "code",
      "execution_count": null,
      "metadata": {
        "id": "hfdmTWfPj0yv",
        "outputId": "bbaf9cab-e27c-4018-fec1-ecddf79c1ce0"
      },
      "outputs": [
        {
          "name": "stdout",
          "output_type": "stream",
          "text": [
            "Factorial: 120\n"
          ]
        }
      ],
      "source": [
        "def factorial(n):\n",
        "    if n == 0:\n",
        "        return 1\n",
        "    else:\n",
        "        return n * factorial(n - 1)\n",
        "\n",
        "result = factorial(5)\n",
        "print(\"Factorial:\", result)  # Output: Factorial: 120"
      ]
    },
    {
      "cell_type": "markdown",
      "metadata": {
        "id": "BLi3y_Suj0yv"
      },
      "source": [
        "### 3. Create a recursive Python function to find the nth Fibonacci number.\n"
      ]
    },
    {
      "cell_type": "code",
      "execution_count": null,
      "metadata": {
        "id": "Z6KFKNgsj0yw",
        "outputId": "e76253f0-bb35-4c41-81b0-ab0343acce0b"
      },
      "outputs": [
        {
          "name": "stdout",
          "output_type": "stream",
          "text": [
            "Fibonacci: 13\n"
          ]
        }
      ],
      "source": [
        "def fibonacci(n):\n",
        "    if n <= 0:\n",
        "        return 0\n",
        "    elif n == 1:\n",
        "        return 1\n",
        "    else:\n",
        "        return fibonacci(n - 1) + fibonacci(n - 2)\n",
        "\n",
        "result = fibonacci(7)\n",
        "print(\"Fibonacci:\", result)  # Output: Fibonacci: 13"
      ]
    },
    {
      "cell_type": "markdown",
      "metadata": {
        "id": "VzRDnFh0j0yw"
      },
      "source": [
        "### 4. Write a recursive Python function to calculate the sum of all elements in a list.\n"
      ]
    },
    {
      "cell_type": "code",
      "execution_count": null,
      "metadata": {
        "id": "d1WBcGtij0yw",
        "outputId": "525f3930-17b4-4b08-acdb-7225197ce1f2"
      },
      "outputs": [
        {
          "name": "stdout",
          "output_type": "stream",
          "text": [
            "Sum: 15\n"
          ]
        }
      ],
      "source": [
        "def sum_list(lst):\n",
        "    if not lst:\n",
        "        return 0\n",
        "    else:\n",
        "        return lst[0] + sum_list(lst[1:])\n",
        "\n",
        "numbers = [1, 2, 3, 4, 5]\n",
        "result = sum_list(numbers)\n",
        "print(\"Sum:\", result)  # Output: Sum: 15"
      ]
    },
    {
      "cell_type": "markdown",
      "metadata": {
        "id": "UyntPIYrj0yx"
      },
      "source": [
        "### 5. How can you prevent a recursive function from running indefinitely, causing a stack overflow error?\n"
      ]
    },
    {
      "cell_type": "markdown",
      "metadata": {
        "id": "4m7LuzQcj0yx"
      },
      "source": [
        "- To prevent infinite recursion, ensure that your recursive function has one or more base cases that stop the recursion. A base case is a condition where the function returns a result without making another recursive call."
      ]
    },
    {
      "cell_type": "markdown",
      "metadata": {
        "id": "O1W6FDrej0yx"
      },
      "source": [
        "### 6. Create a recursive Python function to find the greatest common divisor (GCD) of two numbers using the Euclidean algorithm.\n"
      ]
    },
    {
      "cell_type": "code",
      "execution_count": null,
      "metadata": {
        "id": "VmTNSDC1j0yx",
        "outputId": "58df4d77-d4a5-4a98-8ba5-c3239fd99475"
      },
      "outputs": [
        {
          "name": "stdout",
          "output_type": "stream",
          "text": [
            "GCD: 6\n"
          ]
        }
      ],
      "source": [
        "def gcd(a, b):\n",
        "    if b == 0:\n",
        "        return a\n",
        "    else:\n",
        "        return gcd(b, a % b)\n",
        "\n",
        "result = gcd(48, 18)\n",
        "print(\"GCD:\", result)  # Output: GCD: 6"
      ]
    },
    {
      "cell_type": "markdown",
      "metadata": {
        "id": "rJAZ89n2j0yy"
      },
      "source": [
        "### 7. Write a recursive Python function to reverse a string.\n"
      ]
    },
    {
      "cell_type": "code",
      "execution_count": null,
      "metadata": {
        "id": "akF0Ia9Sj0yy",
        "outputId": "b5b04c73-12a4-4b8e-9e09-4bb11a94b6c6"
      },
      "outputs": [
        {
          "name": "stdout",
          "output_type": "stream",
          "text": [
            "Reversed: olleh\n"
          ]
        }
      ],
      "source": [
        "def reverse_string(s):\n",
        "    if len(s) <= 1:\n",
        "        return s\n",
        "    else:\n",
        "        return reverse_string(s[1:]) + s[0]\n",
        "\n",
        "result = reverse_string(\"hello\")\n",
        "print(\"Reversed:\", result)  # Output: Reversed: olleh"
      ]
    },
    {
      "cell_type": "markdown",
      "metadata": {
        "id": "fiT5fAxnj0yy"
      },
      "source": [
        "### 8. Create a recursive Python function to calculate the power of a number (x^n).\n"
      ]
    },
    {
      "cell_type": "code",
      "execution_count": null,
      "metadata": {
        "id": "-CkS-Xugj0yz",
        "outputId": "97d5e365-e432-4d09-d9de-5d85a51a91ef"
      },
      "outputs": [
        {
          "name": "stdout",
          "output_type": "stream",
          "text": [
            "Power: 8\n"
          ]
        }
      ],
      "source": [
        "def power(x, n):\n",
        "    if n == 0:\n",
        "        return 1\n",
        "    else:\n",
        "        return x * power(x, n - 1)\n",
        "\n",
        "result = power(2, 3)\n",
        "print(\"Power:\", result)  # Output: Power: 8"
      ]
    },
    {
      "cell_type": "markdown",
      "metadata": {
        "id": "_bTyk4nqj0yz"
      },
      "source": [
        "### 9. Write a recursive Python function to find all permutations of a given string.\n"
      ]
    },
    {
      "cell_type": "code",
      "execution_count": null,
      "metadata": {
        "id": "mtBUWRaaj0y0",
        "outputId": "45124eea-783c-4772-e165-a060e0c0f2b0"
      },
      "outputs": [
        {
          "name": "stdout",
          "output_type": "stream",
          "text": [
            "Permutations: ['abc', 'acb', 'bac', 'bca', 'cab', 'cba']\n"
          ]
        }
      ],
      "source": [
        "def find_permutations(s):\n",
        "    # Base case: If the string has only one character, there's only one permutation.\n",
        "    if len(s) == 1:\n",
        "        return [s]\n",
        "\n",
        "    # Initialize an empty list to store permutations.\n",
        "    permutations = []\n",
        "\n",
        "    # Iterate over each character in the string.\n",
        "    for i in range(len(s)):\n",
        "        # Choose the current character as the first character.\n",
        "        first_char = s[i]\n",
        "\n",
        "        # Exclude the current character and find permutations of the remaining substring.\n",
        "        remaining_chars = s[:i] + s[i+1:]\n",
        "        sub_permutations = find_permutations(remaining_chars)\n",
        "\n",
        "        # Add the current character to each permutation of the remaining substring.\n",
        "        for sub_permutation in sub_permutations:\n",
        "            permutations.append(first_char + sub_permutation)\n",
        "\n",
        "    return permutations\n",
        "\n",
        "# Test the function with a sample string.\n",
        "result = find_permutations(\"abc\")\n",
        "print(\"Permutations:\", result)\n"
      ]
    },
    {
      "cell_type": "markdown",
      "metadata": {
        "id": "rlrNXIbTj0y0"
      },
      "source": [
        "### 10. Write a recursive Python function to check if a string is a palindrome.\n"
      ]
    },
    {
      "cell_type": "code",
      "execution_count": null,
      "metadata": {
        "id": "8qTsblv0j0y1",
        "outputId": "a6030b21-8b11-4823-fd28-256ad0f8f8a7"
      },
      "outputs": [
        {
          "name": "stdout",
          "output_type": "stream",
          "text": [
            "Is Palindrome: True\n"
          ]
        }
      ],
      "source": [
        "def is_palindrome(s):\n",
        "    s = s.lower()\n",
        "    if len(s) <= 1:\n",
        "        return True\n",
        "    elif s[0] != s[-1]:\n",
        "        return False\n",
        "    else:\n",
        "        return is_palindrome(s[1:-1])\n",
        "\n",
        "result = is_palindrome(\"racecar\")\n",
        "print(\"Is Palindrome:\", result)  # Output: Is Palindrome: True"
      ]
    },
    {
      "cell_type": "markdown",
      "metadata": {
        "id": "ob3a9vf_j0y1"
      },
      "source": [
        "### 11. Create a recursive Python function to generate all possible combinations of a list of elements.\n"
      ]
    },
    {
      "cell_type": "code",
      "execution_count": null,
      "metadata": {
        "id": "ePukaSVqj0y2",
        "outputId": "33cac491-936c-45ce-c9f8-f2d6810bb8b3"
      },
      "outputs": [
        {
          "name": "stdout",
          "output_type": "stream",
          "text": [
            "Combinations: [[], [1], [2], [1, 2], [3], [1, 3], [2, 3], [1, 2, 3]]\n"
          ]
        }
      ],
      "source": [
        "def generate_combinations(elements):\n",
        "    if len(elements) == 0:\n",
        "        return [[]]  # Return an empty list as the base case for an empty input list.\n",
        "\n",
        "    first_element = elements[0]\n",
        "    rest_elements = elements[1:]\n",
        "\n",
        "    # Recursively generate combinations without the first element.\n",
        "    combinations_without_first = generate_combinations(rest_elements)\n",
        "\n",
        "    # Combine the first element with each combination without it.\n",
        "    combinations_with_first = []\n",
        "    for combination in combinations_without_first:\n",
        "        combinations_with_first.append(combination)  # Add the combination without the first element.\n",
        "        combinations_with_first.append([first_element] + combination)  # Add the combination with the first element.\n",
        "\n",
        "    return combinations_with_first\n",
        "\n",
        "# Test the function with a sample list of elements.\n",
        "elements = [1, 2, 3]\n",
        "result = generate_combinations(elements)\n",
        "print(\"Combinations:\", result)\n"
      ]
    },
    {
      "cell_type": "markdown",
      "metadata": {
        "id": "JmpMUPILj0y2"
      },
      "source": [
        "\n",
        "\n",
        "## **Basics of Functions:**"
      ]
    },
    {
      "cell_type": "markdown",
      "metadata": {
        "id": "txU2uUU1j0y2"
      },
      "source": [
        "### 1. What is a function in Python, and why is it used?\n"
      ]
    },
    {
      "cell_type": "markdown",
      "metadata": {
        "id": "X-eLaN8hj0y3"
      },
      "source": [
        "- A function in Python is a reusable block of code that performs a specific task or a set of related tasks. Functions are used to organize and modularize code, making it more readable, maintainable, and reusable.\n",
        "\n",
        "- Functions allow you to break down complex problems into smaller, manageable parts, and they promote code reuse by enabling you to call the same function multiple times with different inputs."
      ]
    },
    {
      "cell_type": "markdown",
      "metadata": {
        "id": "aiLgZbdDj0y3"
      },
      "source": [
        "### 2. How do you define a function in Python? Provide an example.\n"
      ]
    },
    {
      "cell_type": "markdown",
      "metadata": {
        "id": "kKu4xfuzj0y3"
      },
      "source": [
        "- We can define a function in Python using the `def` keyword, followed by the function name, parentheses for parameters, a colon, and an indented block of code.\n",
        "\n",
        "```python\n",
        "def greet(name):\n",
        "    \"\"\"This function greets the user.\"\"\"\n",
        "    print(f\"Hello, {name}!\")\n",
        "\n",
        "# Function definition is complete\n",
        "```"
      ]
    },
    {
      "cell_type": "markdown",
      "metadata": {
        "id": "YH1hztj1j0y3"
      },
      "source": [
        "### 3. Explain the difference between a function definition and a function call.\n"
      ]
    },
    {
      "cell_type": "markdown",
      "metadata": {
        "id": "6T9eiQa8j0y3"
      },
      "source": [
        "- **Function Definition:** This is where you define the function, specifying its name, parameters, and the code it will execute when called. The function definition typically appears at the top of your script or module.\n",
        "\n",
        "- **Function Call:** This is when you actually invoke or use the function you've defined. During a function call, you provide the necessary arguments (if any) that match the function's parameters. The function's code is executed with these arguments, and it may return a result.\n"
      ]
    },
    {
      "cell_type": "code",
      "execution_count": null,
      "metadata": {
        "id": "zY7mO72Ij0y4",
        "outputId": "9a8ef598-75f7-415c-8346-b30ab661fc94"
      },
      "outputs": [
        {
          "name": "stdout",
          "output_type": "stream",
          "text": [
            "Hello, Alice!\n"
          ]
        }
      ],
      "source": [
        "# For example:\n",
        "\n",
        "# Function Definition\n",
        "def greet(name):\n",
        "    \"\"\"This function greets the user.\"\"\"\n",
        "    print(f\"Hello, {name}!\")\n",
        "\n",
        "# Function Call\n",
        "greet(\"Alice\")  # Calls the greet function with \"Alice\" as an argument."
      ]
    },
    {
      "cell_type": "markdown",
      "metadata": {
        "id": "ZsQDYnsZj0y4"
      },
      "source": [
        "### 4. Write a Python program that defines a function to calculate the sum of two numbers and then calls the function.\n"
      ]
    },
    {
      "cell_type": "code",
      "execution_count": null,
      "metadata": {
        "id": "mK6LygREj0y4",
        "outputId": "cf4d5f7c-77b4-4060-f1ab-61e1507cc16b"
      },
      "outputs": [
        {
          "name": "stdout",
          "output_type": "stream",
          "text": [
            "Sum: 8\n"
          ]
        }
      ],
      "source": [
        "# Function Definition\n",
        "def calculate_sum(a, b):\n",
        "    \"\"\"This function calculates the sum of two numbers.\"\"\"\n",
        "    return a + b\n",
        "\n",
        "# Function Call\n",
        "result = calculate_sum(5, 3)\n",
        "print(\"Sum:\", result)  # Output: Sum: 8"
      ]
    },
    {
      "cell_type": "markdown",
      "metadata": {
        "id": "q9lUBMttj0y5"
      },
      "source": [
        "### 5. What is a function signature, and what information does it typically include?\n"
      ]
    },
    {
      "cell_type": "markdown",
      "metadata": {
        "id": "361naSMYj0y5"
      },
      "source": [
        "- A function signature is a part of the function definition that specifies the function's name, its parameters (including their names and types), and optionally, the return type. It is a concise summary of a function's interface.\n",
        "\n",
        "A typical function signature includes:\n",
        "- Function name\n",
        "- Parameters (names and types)\n",
        "- Return type (if any)\n",
        "\n",
        "For example, in the function `def calculate_sum(a, b):`, the function signature is `calculate_sum(a, b)`."
      ]
    },
    {
      "cell_type": "markdown",
      "metadata": {
        "id": "JlwuBqYyj0y5"
      },
      "source": [
        "### 6. Create a Python function that takes two arguments and returns their product.\n"
      ]
    },
    {
      "cell_type": "code",
      "execution_count": null,
      "metadata": {
        "id": "bh8MIP9Uj0y5",
        "outputId": "1ec1ec5f-af9f-455f-e4fc-4f2978506067"
      },
      "outputs": [
        {
          "name": "stdout",
          "output_type": "stream",
          "text": [
            "Product: 20\n"
          ]
        }
      ],
      "source": [
        "def calculate_product(x, y):\n",
        "    \"\"\"This function calculates the product of two numbers.\"\"\"\n",
        "    return x * y\n",
        "\n",
        "result = calculate_product(4, 5)\n",
        "print(\"Product:\", result)  # Output: Product: 20"
      ]
    },
    {
      "cell_type": "markdown",
      "metadata": {
        "id": "Plb1dlhGj0y6"
      },
      "source": [
        "\n",
        "\n",
        "## **Function Parameters and Arguments:**"
      ]
    },
    {
      "cell_type": "markdown",
      "metadata": {
        "id": "-7B7S6Hqj0y6"
      },
      "source": [
        "### 1. Explain the concepts of formal parameters and actual arguments in Python functions.\n"
      ]
    },
    {
      "cell_type": "markdown",
      "metadata": {
        "id": "Dtsp5GCYj0y6"
      },
      "source": [
        "\n",
        "- **Formal Parameters:** These are placeholders in the function definition. When you define a function, you specify formal parameters inside the parentheses. Formal parameters are like variables that represent the values you expect to receive when the function is called. They act as names for the input data.\n",
        "\n",
        "  ```python\n",
        "  def add(a, b):  # Here, 'a' and 'b' are formal parameters.\n",
        "      return a + b\n",
        "  ```\n",
        "\n",
        "- **Actual Arguments (Arguments):** These are the actual values or expressions passed to a function when it is called. They supply the values for the formal parameters. Actual arguments can be variables, literals, or expressions.\n",
        "\n",
        "  ```python\n",
        "  result = add(2, 3)  # Here, 2 and 3 are actual arguments.\n",
        "  ```"
      ]
    },
    {
      "cell_type": "markdown",
      "metadata": {
        "id": "g01R9tWkj0y6"
      },
      "source": [
        "### 2. Write a Python program that defines a function with default argument values.\n"
      ]
    },
    {
      "cell_type": "code",
      "execution_count": null,
      "metadata": {
        "id": "29URdx1_j0y7",
        "outputId": "53ad1067-13cc-4e06-e366-7d3d2b882e8c"
      },
      "outputs": [
        {
          "name": "stdout",
          "output_type": "stream",
          "text": [
            "Hello, Guest!\n",
            "Hello, Alice!\n"
          ]
        }
      ],
      "source": [
        "'''\n",
        "We can define default argument values in a Python function\n",
        "to provide fallback values if the caller does not specify them.\n",
        "In this example, the `greet` function has a default value of \"Guest\" for the `name` parameter.\n",
        "If no argument is provided, it uses the default value.\n",
        "'''\n",
        "\n",
        "def greet(name=\"Guest\"):\n",
        "    print(f\"Hello, {name}!\")\n",
        "\n",
        "greet()             # Outputs: Hello, Guest!\n",
        "greet(\"Alice\")      # Outputs: Hello, Alice!\n"
      ]
    },
    {
      "cell_type": "markdown",
      "metadata": {
        "id": "h0caZZfTj0y7"
      },
      "source": [
        "### 3. How do you use keyword arguments in Python function calls? Provide an example.\n"
      ]
    },
    {
      "cell_type": "code",
      "execution_count": null,
      "metadata": {
        "id": "a6AdpwEcj0y7",
        "outputId": "7d10d01b-0825-4c04-b73a-80e4bd9425d1"
      },
      "outputs": [
        {
          "name": "stdout",
          "output_type": "stream",
          "text": [
            "110.0\n"
          ]
        }
      ],
      "source": [
        "'''\n",
        "Keyword arguments allow you to specify arguments by parameter names,\n",
        "making it clear which value corresponds to which parameter.\n",
        "'''\n",
        "\n",
        "\n",
        "\n",
        "def calculate_total(price, tax_rate):\n",
        "    total = price + (price * tax_rate)\n",
        "    return total\n",
        "\n",
        "'''\n",
        "By using keyword arguments, you explicitly state which value should be\n",
        "assigned to each parameter, improving code readability.\n",
        "'''\n",
        "\n",
        "# Using keyword arguments\n",
        "result = calculate_total(price=100, tax_rate=0.10)\n",
        "print(result)  # Outputs: 110.0\n",
        "\n",
        "\n"
      ]
    },
    {
      "cell_type": "markdown",
      "metadata": {
        "id": "LRxn3GWFj0y7"
      },
      "source": [
        "### 4. Create a Python function that accepts a variable number of arguments and calculates their sum.\n"
      ]
    },
    {
      "cell_type": "code",
      "execution_count": null,
      "metadata": {
        "id": "5yQ9SG8Gj0y8",
        "outputId": "0f730f87-6d68-4af8-e8f5-20fec605f062"
      },
      "outputs": [
        {
          "name": "stdout",
          "output_type": "stream",
          "text": [
            "15\n"
          ]
        }
      ],
      "source": [
        "'''\n",
        "The `*args` parameter collects all the positional arguments passed to the\n",
        "function into a tuple named `args`, which we can then process as needed.\n",
        "'''\n",
        "\n",
        "def calculate_sum(*args):\n",
        "    total = sum(args)\n",
        "    return total\n",
        "\n",
        "result = calculate_sum(1, 2, 3, 4, 5)\n",
        "print(result)  # Outputs: 15"
      ]
    },
    {
      "cell_type": "markdown",
      "metadata": {
        "id": "VBZow12hj0y8"
      },
      "source": [
        "### 5. What is the purpose of the `*args` and `**kwargs` syntax in function parameter lists?\n"
      ]
    },
    {
      "cell_type": "markdown",
      "metadata": {
        "id": "B-o5aikFj0y8"
      },
      "source": [
        "- `*args`: This syntax is used to accept a variable number of positional arguments. It allows you to pass any number of arguments to a function, which are collected into a tuple. This is useful when you don't know in advance how many arguments will be passed.\n",
        "\n",
        "- `**kwargs`: This syntax is used to accept a variable number of keyword arguments (keyword-value pairs). It collects these arguments into a dictionary. It's helpful when you want to allow arbitrary keyword arguments in your function."
      ]
    },
    {
      "cell_type": "code",
      "execution_count": null,
      "metadata": {
        "id": "VbGnFkxoj0y9",
        "outputId": "df255648-fa65-451d-cc66-69bc737fe955"
      },
      "outputs": [
        {
          "name": "stdout",
          "output_type": "stream",
          "text": [
            "arg1: value1\n",
            "args: (2, 3)\n",
            "kwarg1: custom\n",
            "kwargs: {'key1': 'value1', 'key2': 'value2'}\n"
          ]
        }
      ],
      "source": [
        "def example_function(arg1, *args, kwarg1=\"default\", **kwargs):\n",
        "    # arg1 is a regular parameter\n",
        "    # *args collects positional arguments into a tuple\n",
        "    # kwarg1 has a default value\n",
        "    # **kwargs collects keyword arguments into a dictionary\n",
        "    print(f\"arg1: {arg1}\")\n",
        "    print(f\"args: {args}\")\n",
        "    print(f\"kwarg1: {kwarg1}\")\n",
        "    print(f\"kwargs: {kwargs}\")\n",
        "\n",
        "example_function(\"value1\", 2, 3, kwarg1=\"custom\", key1=\"value1\", key2=\"value2\")"
      ]
    },
    {
      "cell_type": "markdown",
      "metadata": {
        "id": "J_eRihPtj0y9"
      },
      "source": [
        "\n",
        "\n",
        "## **Return Values and Scoping:**"
      ]
    },
    {
      "cell_type": "markdown",
      "metadata": {
        "id": "2wAOSNNdj0y9"
      },
      "source": [
        "### 1. Describe the role of the `return` statement in Python functions and provide examples.\n"
      ]
    },
    {
      "cell_type": "markdown",
      "metadata": {
        "id": "NjAZf0PZj0y9"
      },
      "source": [
        "- The `return` statement is used in Python functions to specify the value that the function should return when it is called. It allows a function to produce an output or result that can be used in other parts of the program.\n",
        "\n"
      ]
    },
    {
      "cell_type": "code",
      "execution_count": null,
      "metadata": {
        "id": "wrviBmn-j0y-",
        "outputId": "832e3723-8acf-4f15-d558-60471b71380e"
      },
      "outputs": [
        {
          "name": "stdout",
          "output_type": "stream",
          "text": [
            "8\n",
            "True\n"
          ]
        }
      ],
      "source": [
        "# Examples\n",
        "\n",
        "def add(a, b):\n",
        "    \"\"\"This function adds two numbers and returns the result.\"\"\"\n",
        "    return a + b\n",
        "\n",
        "result = add(5, 3)  # The return value (8) is assigned to the 'result' variable.\n",
        "print(result)       # Output: 8\n",
        "\n",
        "\n",
        "def is_even(number):\n",
        "    \"\"\"This function checks if a number is even and returns True or False.\"\"\"\n",
        "    if number % 2 == 0:\n",
        "        return True\n",
        "    else:\n",
        "        return False\n",
        "\n",
        "even = is_even(4)  # The return value (True) is assigned to the 'even' variable.\n",
        "print(even)        # Output: True\n"
      ]
    },
    {
      "cell_type": "markdown",
      "metadata": {
        "id": "nMBpJ8egj0y-"
      },
      "source": [
        "### 2. Explain the concept of variable scope in Python, including local and global variables.\n"
      ]
    },
    {
      "cell_type": "markdown",
      "metadata": {
        "id": "l8uJBtCXj0y-"
      },
      "source": [
        "- **Variable Scope:** Variable scope refers to the area or context in which a variable is defined and can be accessed. In Python, there are two main types of variable scope:\n",
        "  \n",
        "- **Local Variables:** Variables defined within a function have local scope. They are accessible only within that function and are destroyed when the function exits.\n",
        "\n",
        "- **Global Variables:** Variables defined outside of any function, at the module level, have global scope. They can be accessed from anywhere in the module, including within functions."
      ]
    },
    {
      "cell_type": "markdown",
      "metadata": {
        "id": "HVkuzKxxj0y_"
      },
      "source": [
        "### 3. Write a Python program that demonstrates the use of global variables within functions.\n"
      ]
    },
    {
      "cell_type": "code",
      "execution_count": null,
      "metadata": {
        "id": "Rixr_Hrtj0y_",
        "outputId": "01572006-83b7-4da0-e849-590b114f0e9a"
      },
      "outputs": [
        {
          "name": "stdout",
          "output_type": "stream",
          "text": [
            "50\n"
          ]
        }
      ],
      "source": [
        "# Global variable\n",
        "global_var = 10\n",
        "\n",
        "def multiply_by_global(number):\n",
        "    \"\"\"This function multiplies a number by a global variable.\"\"\"\n",
        "    return number * global_var\n",
        "\n",
        "result = multiply_by_global(5)\n",
        "print(result)  # Output: 50"
      ]
    },
    {
      "cell_type": "markdown",
      "metadata": {
        "id": "SaxYjWg4j0y_"
      },
      "source": [
        "### 4. Create a Python function that calculates the factorial of a number and returns it.\n"
      ]
    },
    {
      "cell_type": "code",
      "execution_count": null,
      "metadata": {
        "id": "iXXLtK4rj0y_",
        "outputId": "460c680e-7f40-4dee-c287-7404bd4a5b5a"
      },
      "outputs": [
        {
          "name": "stdout",
          "output_type": "stream",
          "text": [
            "Factorial: 120\n"
          ]
        }
      ],
      "source": [
        "# The `factorial` function is a recursive function that calculates the factorial of a non-negative integer `n`.\n",
        "\n",
        "def factorial(n):\n",
        "    \"\"\"This function calculates the factorial of a non-negative integer.\"\"\"\n",
        "    if n == 0:\n",
        "        return 1\n",
        "    else:\n",
        "        return n * factorial(n - 1)\n",
        "\n",
        "result = factorial(5)\n",
        "print(\"Factorial:\", result)  # Output: Factorial: 120"
      ]
    },
    {
      "cell_type": "markdown",
      "metadata": {
        "id": "mokWlskZj0zA"
      },
      "source": [
        "### 5. How can you access variables defined outside a function from within the function?\n"
      ]
    },
    {
      "cell_type": "markdown",
      "metadata": {
        "id": "OE5A3Ye7j0zA"
      },
      "source": [
        "To access variables defined outside a function from within the function, you can declare them as global within the function using the `global` keyword. This allows you to modify global variables from within a function."
      ]
    },
    {
      "cell_type": "code",
      "execution_count": null,
      "metadata": {
        "id": "CDHvw7bWj0zA",
        "outputId": "60a1ed0a-fd4c-4584-ed65-24d6c372652d"
      },
      "outputs": [
        {
          "name": "stdout",
          "output_type": "stream",
          "text": [
            "20\n"
          ]
        }
      ],
      "source": [
        "'''\n",
        "In this example, the `global` keyword is used to indicate that `global_var`\n",
        "is a global variable even within the `modify_global` function.\n",
        "This allows you to change its value globally.\n",
        "'''\n",
        "\n",
        "global_var = 10\n",
        "\n",
        "def modify_global():\n",
        "    \"\"\"This function modifies a global variable.\"\"\"\n",
        "    global global_var\n",
        "    global_var = 20\n",
        "\n",
        "modify_global()\n",
        "print(global_var)  # Output: 20"
      ]
    },
    {
      "cell_type": "markdown",
      "metadata": {
        "id": "JzGsBV-Tj0zA"
      },
      "source": [
        "\n",
        "\n",
        "## **Lambda Functions and Higher-Order Functions:**"
      ]
    },
    {
      "cell_type": "markdown",
      "metadata": {
        "id": "XA0tmY-bj0zB"
      },
      "source": [
        "### 1. What are lambda functions in Python, and when are they typically used?\n"
      ]
    },
    {
      "cell_type": "markdown",
      "metadata": {
        "id": "FT8AoQfRj0zB"
      },
      "source": [
        "- Lambda functions, also known as anonymous functions or lambda expressions, are small, unnamed functions in Python. They are typically used for short, simple operations where a full function definition is unnecessary or would be less readable. Lambda functions are defined using the `lambda` keyword.\n",
        "\n",
        "- Lambda functions are often used when you need to pass a simple function as an argument to another function, like in `map()`, `filter()`, or `sort()`."
      ]
    },
    {
      "cell_type": "markdown",
      "metadata": {
        "id": "rUVFCCW1j0zB"
      },
      "source": [
        "### 2. Write a Python program that uses lambda functions to sort a list of tuples based on the second element.\n"
      ]
    },
    {
      "cell_type": "markdown",
      "metadata": {
        "id": "iFFwp2QPj0zB"
      },
      "source": [
        "In the below example, the `key` argument of the `sorted()` function is used with a lambda function to specify that the sorting should be based on the second element of each tuple (the grades)."
      ]
    },
    {
      "cell_type": "code",
      "execution_count": null,
      "metadata": {
        "id": "uIiwkj6oj0zC",
        "outputId": "62f4bbe8-0f93-43dc-8b17-3ebb8cd00fbd"
      },
      "outputs": [
        {
          "name": "stdout",
          "output_type": "stream",
          "text": [
            "[('David', 78), ('Bob', 85), ('Alice', 90), ('Charlie', 92)]\n"
          ]
        }
      ],
      "source": [
        "# List of tuples\n",
        "grades = [(\"Alice\", 90), (\"Bob\", 85), (\"Charlie\", 92), (\"David\", 78)]\n",
        "\n",
        "# Sort the list of tuples based on the second element (the grades)\n",
        "sorted_grades = sorted(grades, key=lambda x: x[1])\n",
        "\n",
        "print(sorted_grades)\n",
        "# Output: [('David', 78), ('Bob', 85), ('Alice', 90), ('Charlie', 92)]"
      ]
    },
    {
      "cell_type": "markdown",
      "metadata": {
        "id": "kUGOznyej0zC"
      },
      "source": [
        "### 3. Explain the concept of higher-order functions in Python, and provide an example.\n"
      ]
    },
    {
      "cell_type": "markdown",
      "metadata": {
        "id": "VL9i2NkTj0zC"
      },
      "source": [
        "- Higher-order functions are functions that can take one or more functions as arguments and/or return functions as results. They treat functions as first-class citizens, allowing you to work with them just like any other data type.\n",
        "\n",
        "- Python supports higher-order functions, and they are often used for functional programming tasks, such as mapping, filtering, and reducing data."
      ]
    },
    {
      "cell_type": "code",
      "execution_count": null,
      "metadata": {
        "id": "cHXxRSULj0zC",
        "outputId": "3c839ad7-ac7c-4e67-ad38-f8f3ecd5873d"
      },
      "outputs": [
        {
          "name": "stdout",
          "output_type": "stream",
          "text": [
            "[1, 4, 9, 16, 25]\n"
          ]
        }
      ],
      "source": [
        "'''\n",
        "In this example, map() is a higher-order function that takes the square function and\n",
        "applies it to each element in the `numbers` list.\n",
        "'''\n",
        "\n",
        "def square(x):\n",
        "    return x ** 2\n",
        "\n",
        "numbers = [1, 2, 3, 4, 5]\n",
        "\n",
        "# Using map() as a higher-order function to apply the square function to each element\n",
        "squared_numbers = list(map(square, numbers))\n",
        "\n",
        "print(squared_numbers)\n",
        "# Output: [1, 4, 9, 16, 25]"
      ]
    },
    {
      "cell_type": "markdown",
      "metadata": {
        "id": "MGQ0es5_j0zD"
      },
      "source": [
        "### 4. Create a Python function that takes a list of numbers and a function as arguments, applying the function to each element in the list.\n"
      ]
    },
    {
      "cell_type": "code",
      "execution_count": null,
      "metadata": {
        "id": "zXK3kQlSj0zD",
        "outputId": "28a518d2-0975-47ba-94f1-99fae82f0db2"
      },
      "outputs": [
        {
          "name": "stdout",
          "output_type": "stream",
          "text": [
            "[2, 4, 6, 8, 10]\n"
          ]
        }
      ],
      "source": [
        "'''\n",
        "In this example, the apply_function_to_list function takes a list of numbers and a function\n",
        "(double in this case) as arguments, applying the given function to each element in the list\n",
        "and returning the results. This demonstrates how functions can be passed as arguments to other\n",
        "functions, making them higher-order functions.\n",
        "'''\n",
        "\n",
        "def apply_function_to_list(numbers, func):\n",
        "    \"\"\"Applies the given function to each element in the list.\"\"\"\n",
        "    result = []\n",
        "    for num in numbers:\n",
        "        result.append(func(num))\n",
        "    return result\n",
        "\n",
        "# Define a function to double a number\n",
        "def double(x):\n",
        "    return x * 2\n",
        "\n",
        "numbers = [1, 2, 3, 4, 5]\n",
        "\n",
        "# Use the apply_function_to_list function to double each number in the list\n",
        "doubled_numbers = apply_function_to_list(numbers, double)\n",
        "\n",
        "print(doubled_numbers)\n",
        "# Output: [2, 4, 6, 8, 10]"
      ]
    },
    {
      "cell_type": "markdown",
      "metadata": {
        "id": "ELzKnV6Zj0zD"
      },
      "source": [
        "\n",
        "\n",
        "## **Built-in Functions:**"
      ]
    },
    {
      "cell_type": "markdown",
      "metadata": {
        "id": "2ylbHpLej0zD"
      },
      "source": [
        "### 1. Describe the role of built-in functions like `len()`, `max()`, and `min()` in Python.\n"
      ]
    },
    {
      "cell_type": "markdown",
      "metadata": {
        "id": "K5EUfaUPj0zE"
      },
      "source": [
        "- `len()`: This function is used to determine the length or the number of elements in an iterable, such as a list, tuple, or string. It returns an integer representing the length.\n",
        "\n",
        "  Example:\n",
        "  ```python\n",
        "  my_list = [1, 2, 3, 4, 5]\n",
        "  length = len(my_list)  # Returns 5\n",
        "  ```\n",
        "\n",
        "- `max()`: This function is used to find the maximum value from an iterable or a set of arguments. It returns the largest element.\n",
        "\n",
        "  Example:\n",
        "  ```python\n",
        "  numbers = [4, 7, 2, 9, 1]\n",
        "  maximum = max(numbers)  # Returns 9\n",
        "  ```\n",
        "\n",
        "- `min()`: Similar to `max()`, the `min()` function finds the minimum value from an iterable or a set of arguments and returns the smallest element.\n",
        "\n",
        "  Example:\n",
        "  ```python\n",
        "  numbers = [4, 7, 2, 9, 1]\n",
        "  minimum = min(numbers)  # Returns 1\n",
        "  ```"
      ]
    },
    {
      "cell_type": "markdown",
      "metadata": {
        "id": "z5iiiYy6j0zE"
      },
      "source": [
        "### 2. Write a Python program that uses the `map()` function to apply a function to each element of a list.\n"
      ]
    },
    {
      "cell_type": "code",
      "execution_count": null,
      "metadata": {
        "id": "VB-vq1r_j0zE",
        "outputId": "ffb77834-dd2f-4bb1-da66-fb0e48a4c3d0"
      },
      "outputs": [
        {
          "name": "stdout",
          "output_type": "stream",
          "text": [
            "[1, 4, 9, 16, 25]\n"
          ]
        }
      ],
      "source": [
        "# Define a function to square a number\n",
        "def square(x):\n",
        "    return x ** 2\n",
        "\n",
        "# Create a list of numbers\n",
        "numbers = [1, 2, 3, 4, 5]\n",
        "\n",
        "# Use map() to apply the square function to each element in the list\n",
        "squared_numbers = list(map(square, numbers))\n",
        "\n",
        "print(squared_numbers)  # Output: [1, 4, 9, 16, 25]"
      ]
    },
    {
      "cell_type": "markdown",
      "metadata": {
        "id": "A6CJvAXcj0zF"
      },
      "source": [
        "### 3. How does the `filter()` function work in Python, and when would you use it?\n"
      ]
    },
    {
      "cell_type": "markdown",
      "metadata": {
        "id": "5qQvwRvMj0zF"
      },
      "source": [
        "- The `filter()` function is used to filter elements from an iterable (e.g., a list) based on a given function's criteria. It returns a new iterable containing only the elements for which the function returns `True`.\n",
        "\n",
        "- You would use the `filter()` function when you want to select specific elements from a collection based on a condition.\n",
        "\n",
        "In the below example, the `filter()` function is used with the `is_even` function to filter out the even numbers from the `numbers` list, creating a new list containing only the even elements."
      ]
    },
    {
      "cell_type": "code",
      "execution_count": null,
      "metadata": {
        "id": "eb_MQb1tj0zF",
        "outputId": "addd6379-84bd-4b1f-c80f-725622fe2053"
      },
      "outputs": [
        {
          "name": "stdout",
          "output_type": "stream",
          "text": [
            "[2, 4, 6, 8, 10]\n"
          ]
        }
      ],
      "source": [
        "# Define a function to check if a number is even\n",
        "def is_even(x):\n",
        "    return x % 2 == 0\n",
        "\n",
        "# Create a list of numbers\n",
        "numbers = [1, 2, 3, 4, 5, 6, 7, 8, 9, 10]\n",
        "\n",
        "# Use filter() to select only the even numbers\n",
        "even_numbers = list(filter(is_even, numbers))\n",
        "\n",
        "print(even_numbers)  # Output: [2, 4, 6, 8, 10]"
      ]
    },
    {
      "cell_type": "markdown",
      "metadata": {
        "id": "A6zRv-uxj0zF"
      },
      "source": [
        "### 4. Create a Python program that uses the `reduce()` function to find the product of all elements in a list.\n"
      ]
    },
    {
      "cell_type": "code",
      "execution_count": null,
      "metadata": {
        "id": "ZsHi_LOrj0zG",
        "outputId": "66e0e59d-5454-4cf8-e90e-20da8c80e017"
      },
      "outputs": [
        {
          "name": "stdout",
          "output_type": "stream",
          "text": [
            "120\n"
          ]
        }
      ],
      "source": [
        "from functools import reduce\n",
        "\n",
        "# Define a function to multiply two numbers\n",
        "def multiply(x, y):\n",
        "    return x * y\n",
        "\n",
        "# Create a list of numbers\n",
        "numbers = [1, 2, 3, 4, 5]\n",
        "\n",
        "# Use reduce() to find the product of all elements in the list\n",
        "product = reduce(multiply, numbers)\n",
        "\n",
        "print(product)  # Output: 120 (1 * 2 * 3 * 4 * 5)\n"
      ]
    },
    {
      "cell_type": "markdown",
      "metadata": {
        "id": "-G2vXy_hj0zG"
      },
      "source": [
        "\n",
        "\n",
        "## **Function Documentation and Best Practices:**"
      ]
    },
    {
      "cell_type": "markdown",
      "metadata": {
        "id": "Txn-xp0Gj0zG"
      },
      "source": [
        "### 1. Explain the purpose of docstrings in Python functions and how to write them.\n"
      ]
    },
    {
      "cell_type": "markdown",
      "metadata": {
        "id": "R6qt1nNwj0zG"
      },
      "source": [
        "Docstrings in Python are used to provide documentation and descriptions for functions, classes, modules, and methods. They serve as a way to describe the purpose, usage, and important details of the code we've written. Properly written docstrings can be invaluable for other developers (including your future self) who may need to use or maintain your code.\n",
        "\n",
        "**Purpose of Docstrings:**\n",
        "\n",
        "1. **Documentation:** Docstrings provide a clear and human-readable way to document the purpose and functionality of your code. They act as a form of inline documentation, making it easier for others (and yourself) to understand the code's intent.\n",
        "\n",
        "2. **Usage Information:** Docstrings explain how to use functions or classes, including the expected input arguments, return values, and any side effects. This helps users of your code know how to interact with it correctly.\n",
        "\n",
        "3. **Automatic Generation:** Many tools and libraries in the Python ecosystem can automatically generate documentation from docstrings. This is particularly useful for creating API documentation and user manuals.\n",
        "\n",
        "4. **Code Exploration:** Integrated development environments (IDEs) and code editors often display docstrings as tooltips or inline help, making it convenient to explore and understand your code while writing it.\n",
        "\n",
        "**How to Write Docstrings:**\n",
        "\n",
        "Docstrings are enclosed in triple quotes (either single or double) and are placed immediately following the function, class, or module definition. There are different conventions for writing docstrings in Python, but the most widely used one are given as follows:\n",
        "\n",
        "1. **One-Line Summary:** Provide a concise, one-line summary of what the function, class, or module does. This should be a brief and clear description.\n",
        "\n",
        "   ```python\n",
        "   def my_function(arg1, arg2):\n",
        "       \"\"\"This function calculates the sum of two numbers.\"\"\"\n",
        "       return arg1 + arg2\n",
        "   ```\n",
        "\n",
        "2. **Detailed Description:** After the one-line summary, you can include a more detailed description of the functionality. Explain any assumptions, limitations, and usage examples here.\n",
        "\n",
        "   ```python\n",
        "   def my_function(arg1, arg2):\n",
        "       \"\"\"\n",
        "       This function calculates the sum of two numbers.\n",
        "\n",
        "       Args:\n",
        "           arg1 (int): The first number.\n",
        "           arg2 (int): The second number.\n",
        "\n",
        "       Returns:\n",
        "           int: The sum of arg1 and arg2.\n",
        "       \"\"\"\n",
        "       return arg1 + arg2\n",
        "   ```\n",
        "\n",
        "3. **Arguments and Return Values:** List and describe the input arguments and their types, as well as the type of value returned by the function. This section helps users understand how to use the function correctly.\n",
        "\n",
        "4. **Additional Sections:** Depending on the complexity of your code, you can include additional sections in your docstring, such as examples, notes, or references to related functions or classes."
      ]
    },
    {
      "cell_type": "markdown",
      "metadata": {
        "id": "bINXGtG0j0zH"
      },
      "source": [
        "### 2. Describe some best practices for naming functions and variables in Python, including naming conventions and guidelines.\n"
      ]
    },
    {
      "cell_type": "markdown",
      "metadata": {
        "id": "lnzoPr7uj0zH"
      },
      "source": [
        "Guidelines and conventions for naming functions and variables in Python, including naming conventions are given as follows :-\n",
        "\n",
        "**1. Descriptive and Meaningful Names:**\n",
        "   - Choose names that clearly convey the purpose and functionality of the variable or function.\n",
        "   - Avoid vague or cryptic names, and instead opt for descriptive names that make the code more understandable.\n",
        "\n",
        "**2. Maintain Consistency:**\n",
        "   - Keep a consistent naming style throughout your codebase. Mixing styles, like using camelCase for one function and snake_case for another, can lead to confusion.\n",
        "\n",
        "**3. Avoid Python Reserved Words:**\n",
        "   - Never use Python's reserved words (e.g., `if`, `for`, `while`, `def`, `class`, `import`, etc.) as variable or function names.\n",
        "\n",
        "**4. Use Underscores for Multi-Word Names:**\n",
        "   - When naming variables or functions with multiple words, separate them with underscores (e.g., `word_count`).\n",
        "\n",
        "**5. Contextual Names:**\n",
        "   - Variables should typically be named after nouns (e.g., `customer_name`), while functions should be named after verbs (e.g., `calculate_total`). Contextual naming can make code more self-explanatory.\n",
        "\n",
        "**6. Avoid One-Letter Variable Names:**\n",
        "   - Except for loop counters (e.g., `i`, `j`, `k`), avoid using single-letter variable names. Longer, descriptive names are preferred.\n",
        "\n",
        "**7. Document Your Code:**\n",
        "    - Include docstrings for functions and comments where necessary to provide additional context and explanation, especially when the code's purpose isn't immediately obvious from the names.\n",
        "\n",
        "**8. Variable and Function Naming Rules:**\n",
        "   - Variable and function names must:\n",
        "     - Start with a letter or underscore (e.g., `_my_variable`, `my_variable`).\n",
        "     - Consist of letters, numbers, and underscores (e.g., `my_variable_123`).\n",
        "     - Be case-sensitive, treating names with different cases as distinct (e.g., `my_var` and `My_Var` are different).\n",
        "\n",
        "**9. Module Names in Lowercase:**\n",
        "   - Use all lowercase letters with underscores between words when naming Python module files (e.g., `my_module.py`).\n",
        "\n",
        "**10. Constants in UPPERCASE:**\n",
        "   - Constants should be named in all capital letters with underscores separating words (e.g., `MAX_VALUE`).\n",
        "\n",
        "**11. Private Attributes and Methods:**\n",
        "   - Use a single leading underscore (e.g., `_private_variable`) to indicate that an attribute or method is intended for internal use within a module or class."
      ]
    }
  ],
  "metadata": {
    "kernelspec": {
      "display_name": "Python 3",
      "language": "python",
      "name": "python3"
    },
    "language_info": {
      "codemirror_mode": {
        "name": "ipython",
        "version": 3
      },
      "file_extension": ".py",
      "mimetype": "text/x-python",
      "name": "python",
      "nbconvert_exporter": "python",
      "pygments_lexer": "ipython3",
      "version": "3.11.3"
    },
    "orig_nbformat": 4,
    "colab": {
      "provenance": []
    }
  },
  "nbformat": 4,
  "nbformat_minor": 0
}