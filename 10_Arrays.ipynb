{
  "cells": [
    {
      "cell_type": "markdown",
      "metadata": {
        "id": "_f5b0i5U0WJn"
      },
      "source": [
        "### 1. **Given an array, check if it contains any duplicates or not.**\n",
        "```python\n",
        "arr = [1, 2, 4, 2, 5, 9]\n",
        "# Output: True\n",
        "```"
      ]
    },
    {
      "cell_type": "markdown",
      "metadata": {
        "id": "LiMF44dG0WJt"
      },
      "source": [
        "Explanation: This solution uses a nested loop to compare each element with every other element to check for duplicates.\n",
        "\n",
        "- Time Complexity (TC): O(n^2), where n is the length of the array.\n",
        "- Space Complexity (SC): O(1) since no extra data structures are used."
      ]
    },
    {
      "cell_type": "code",
      "execution_count": null,
      "metadata": {
        "id": "tFSiAUR30WJw",
        "outputId": "7fff752b-73a6-45b5-cc85-d6fe49bf9927"
      },
      "outputs": [
        {
          "name": "stdout",
          "output_type": "stream",
          "text": [
            "True\n"
          ]
        }
      ],
      "source": [
        "def has_duplicates(arr):\n",
        "    for i in range(len(arr)):\n",
        "        for j in range(i + 1, len(arr)):\n",
        "            if arr[i] == arr[j]:\n",
        "                return True\n",
        "    return False\n",
        "\n",
        "arr = [1, 2, 4, 2, 5, 9]\n",
        "print(has_duplicates(arr))"
      ]
    },
    {
      "cell_type": "markdown",
      "metadata": {
        "id": "TzpOl37i0WJ2"
      },
      "source": [
        "### 2. **Given an array and an integer k, rotate the array to the right by k steps.**\n",
        "```python\n",
        "arr = [1, 2, 3, 4, 5, 6, 7]\n",
        "k = 3\n",
        "# Output: [5, 6, 7, 1, 2, 3, 4]\n",
        "```"
      ]
    },
    {
      "cell_type": "markdown",
      "metadata": {
        "id": "UHqev8oz0WJ3"
      },
      "source": [
        "Explanation: This function calculates the effective rotation amount by taking the remainder of k divided by the array length and then rearranges the elements accordingly.\n",
        "\n",
        "- Time Complexity (TC): O(n), where n is the length of the array.\n",
        "- Space Complexity (SC): O(1) since the rotation is performed in-place."
      ]
    },
    {
      "cell_type": "code",
      "execution_count": null,
      "metadata": {
        "id": "YT-i2O5p0WJ4",
        "outputId": "badd792c-26b2-4ccf-8991-de657a64f2c5"
      },
      "outputs": [
        {
          "name": "stdout",
          "output_type": "stream",
          "text": [
            "[5, 6, 7, 1, 2, 3, 4]\n"
          ]
        }
      ],
      "source": [
        "def rotate_array(arr, k):\n",
        "    k = k % len(arr)\n",
        "    arr[:] = arr[-k:] + arr[:-k]\n",
        "\n",
        "arr = [1, 2, 3, 4, 5, 6, 7]\n",
        "k = 3\n",
        "rotate_array(arr, k)\n",
        "print(arr)"
      ]
    },
    {
      "cell_type": "markdown",
      "metadata": {
        "id": "TDbzn2_M0WJ6"
      },
      "source": [
        "### 3. **Reverse the given array in-place, means without using any extra data structure.**\n",
        "```python\n",
        "arr = [2, 4, 5, 7, 9, 12]\n",
        "# Output: [12, 9, 7, 5, 4, 2]\n",
        "```"
      ]
    },
    {
      "cell_type": "markdown",
      "metadata": {
        "id": "9iYyZJNr0WJ7"
      },
      "source": [
        " Explanation: It uses a two-pointer approach to swap elements from the beginning and end of the array until they meet in the middle, effectively reversing the array in-place.\n",
        "\n",
        "- Time Complexity (TC): O(n), since it iterates through the array once.\n",
        "- Space Complexity (SC): O(1) since the array is reversed in-place."
      ]
    },
    {
      "cell_type": "code",
      "execution_count": null,
      "metadata": {
        "id": "P0nbFj4e0WJ9",
        "outputId": "94a55e36-7f12-489a-f508-8545b8d2ecf8"
      },
      "outputs": [
        {
          "name": "stdout",
          "output_type": "stream",
          "text": [
            "[12, 9, 7, 5, 4, 2]\n"
          ]
        }
      ],
      "source": [
        "def reverse_array_in_place(arr):\n",
        "    start = 0\n",
        "    end = len(arr) - 1\n",
        "    while start < end:\n",
        "        arr[start], arr[end] = arr[end], arr[start]\n",
        "        start += 1\n",
        "        end -= 1\n",
        "\n",
        "arr = [2, 4, 5, 7, 9, 12]\n",
        "reverse_array_in_place(arr)\n",
        "print(arr)"
      ]
    },
    {
      "cell_type": "markdown",
      "metadata": {
        "id": "j0ehKPmc0WJ_"
      },
      "source": [
        "### 4. **Given an array of integers, find the maximum element in an array.**\n",
        "```python\n",
        "arr = [10, 5, 20, 8, 15]\n",
        "# Output: 20\n",
        "```"
      ]
    },
    {
      "cell_type": "markdown",
      "metadata": {
        "id": "glANlRwI0WKA"
      },
      "source": [
        " Explanation: This function iterates through the array, keeping track of the maximum element found so far.\n",
        "\n",
        "- Time Complexity (TC): O(n), where n is the length of the array, as it iterates through all elements once.\n",
        "- Space Complexity (SC): O(1) since it only stores a single maximum value."
      ]
    },
    {
      "cell_type": "code",
      "execution_count": null,
      "metadata": {
        "id": "q_x76eAh0WKB",
        "outputId": "9dc0e515-da45-4034-98e5-ab8be830ff71"
      },
      "outputs": [
        {
          "name": "stdout",
          "output_type": "stream",
          "text": [
            "20\n"
          ]
        }
      ],
      "source": [
        "def find_max_element(arr):\n",
        "    max_element = arr[0]\n",
        "    for element in arr:\n",
        "        if element > max_element:\n",
        "            max_element = element\n",
        "    return max_element\n",
        "\n",
        "arr = [10, 5, 20, 8, 15]\n",
        "print(find_max_element(arr))"
      ]
    },
    {
      "cell_type": "markdown",
      "metadata": {
        "id": "frstNRPr0WKD"
      },
      "source": [
        "### 5. **Given a sorted array, remove the duplicate element without using any extra data structure.**\n",
        "```python\n",
        "arr = [1, 1, 2, 2, 2, 3, 3, 4, 4, 4, 5, 5]\n",
        "# Output: [1, 2, 3, 4, 5]\n",
        "```"
      ]
    },
    {
      "cell_type": "markdown",
      "metadata": {
        "id": "ch_nR-Ed0WKE"
      },
      "source": [
        "Explanation: It iterates through the sorted array and uses a separate index to keep track of the unique elements. When a new unique element is found, it is moved to the next available position.\n",
        "\n",
        "- Time Complexity (TC): O(n), where n is the length of the array, as it iterates through all elements once.\n",
        "- Space Complexity (SC): O(1) since it removes duplicates in-place without using extra memory."
      ]
    },
    {
      "cell_type": "code",
      "execution_count": null,
      "metadata": {
        "id": "SHIZY0el0WKF",
        "outputId": "ac6d257f-29c2-42d3-a4e5-8745c508d413"
      },
      "outputs": [
        {
          "name": "stdout",
          "output_type": "stream",
          "text": [
            "[1, 2, 3, 4, 5]\n"
          ]
        }
      ],
      "source": [
        "def remove_duplicates_from_sorted_array(arr):\n",
        "    if len(arr) == 0:\n",
        "        return []\n",
        "\n",
        "    unique_index = 0\n",
        "    for i in range(1, len(arr)):\n",
        "        if arr[i] != arr[unique_index]:\n",
        "            unique_index += 1\n",
        "            arr[unique_index] = arr[i]\n",
        "\n",
        "    return arr[:unique_index+1]\n",
        "\n",
        "arr = [1, 1, 2, 2, 2, 3, 3, 4, 4, 4, 5, 5]\n",
        "result = remove_duplicates_from_sorted_array(arr)\n",
        "print(result)"
      ]
    }
  ],
  "metadata": {
    "kernelspec": {
      "display_name": "Python 3",
      "language": "python",
      "name": "python3"
    },
    "language_info": {
      "codemirror_mode": {
        "name": "ipython",
        "version": 3
      },
      "file_extension": ".py",
      "mimetype": "text/x-python",
      "name": "python",
      "nbconvert_exporter": "python",
      "pygments_lexer": "ipython3",
      "version": "3.11.3"
    },
    "colab": {
      "provenance": []
    }
  },
  "nbformat": 4,
  "nbformat_minor": 0
}